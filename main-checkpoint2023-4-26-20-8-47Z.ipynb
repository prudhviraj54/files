{
  "cells": [
    {
      "cell_type": "code",
      "source": [
        "import os\r\n",
        "import json\r\n",
        "import lxml\r\n",
        "from bs4 import BeautifulSoup as bs\r\n",
        "from pathlib import Path\r\n",
        "import sys\r\n",
        "import json\r\n",
        "import csv\r\n",
        "import pandas as pd\r\n",
        "from azure.core.credentials import AzureKeyCredential\r\n",
        "from azure.ai.formrecognizer import DocumentAnalysisClient\r\n",
        "from azureml.core import Workspace, Dataset,Datastore\r\n",
        "from azureml.data.datapath import DataPath\r\n",
        "import ast\r\n",
        "import re\r\n",
        "import numpy as np\r\n",
        "from pathlib import Path\r\n",
        "from nltk.corpus import stopwords\r\n",
        "from nltk.tokenize import word_tokenize\r\n",
        "from computer_version import computer_version_rules\r\n",
        "from form_recognizer import doc_read\r\n",
        "from rules import fraud_document_analytics"
      ],
      "outputs": [],
      "execution_count": 11,
      "metadata": {
        "jupyter": {
          "source_hidden": false,
          "outputs_hidden": false
        },
        "nteract": {
          "transient": {
            "deleting": false
          }
        },
        "gather": {
          "logged": 1676398853545
        }
      }
    },
    {
      "cell_type": "code",
      "source": [
        "datastore_name = \"dl_aalab_mlworkspace_gbpii\"\r\n",
        "ws = Workspace.from_config()\r\n",
        "datastore = Datastore(ws, datastore_name)\r\n",
        "input_name ='cdn-aa-gb-fraud-doc-analytics/OCS Files'\r\n",
        "# input_name ='cdn-aa-gb-fraud-doc-analytics/test'\r\n",
        "input_dataset = Dataset.File.from_files(path = [(datastore,input_name)])\r\n",
        "input_mount_ctx = input_dataset.mount()  \r\n",
        "input_mount_ctx.start()\r\n",
        "input_dataset_mount_folder = input_mount_ctx.mount_point\r\n",
        "input_path = input_dataset_mount_folder+'/'\r\n",
        "local_output_path = 'output/'"
      ],
      "outputs": [
        {
          "output_type": "stream",
          "name": "stderr",
          "text": "fuse: warning: library too old, some operations may not not work\n"
        }
      ],
      "execution_count": 12,
      "metadata": {
        "gather": {
          "logged": 1676398859722
        }
      }
    },
    {
      "cell_type": "code",
      "source": [],
      "outputs": [],
      "execution_count": null,
      "metadata": {
        "jupyter": {
          "source_hidden": false,
          "outputs_hidden": false
        },
        "nteract": {
          "transient": {
            "deleting": false
          }
        },
        "gather": {
          "logged": 1665510119670
        }
      }
    },
    {
      "cell_type": "code",
      "source": [
        "cv = computer_version_rules(input_path,local_output_path)"
      ],
      "outputs": [],
      "execution_count": 8,
      "metadata": {
        "jupyter": {
          "source_hidden": false,
          "outputs_hidden": false
        },
        "nteract": {
          "transient": {
            "deleting": false
          }
        },
        "gather": {
          "logged": 1676305214036
        }
      }
    },
    {
      "cell_type": "code",
      "source": [
        "date_name = 'Test'\r\n",
        "batch_name = '111'\r\n",
        "test = cv.detect_stamp(date_name,batch_name,input_path)"
      ],
      "outputs": [],
      "execution_count": 7,
      "metadata": {
        "jupyter": {
          "source_hidden": false,
          "outputs_hidden": false
        },
        "nteract": {
          "transient": {
            "deleting": false
          }
        },
        "gather": {
          "logged": 1674847735396
        }
      }
    },
    {
      "cell_type": "code",
      "source": [
        "test"
      ],
      "outputs": [
        {
          "output_type": "execute_result",
          "execution_count": 8,
          "data": {
            "text/plain": "[]"
          },
          "metadata": {}
        }
      ],
      "execution_count": 8,
      "metadata": {
        "jupyter": {
          "source_hidden": false,
          "outputs_hidden": false
        },
        "nteract": {
          "transient": {
            "deleting": false
          }
        },
        "gather": {
          "logged": 1674847743386
        }
      }
    },
    {
      "cell_type": "code",
      "source": [
        "files_stamp_detected = []\r\n",
        "for datename in os.listdir(input_path):\r\n",
        "    date_path = input_path+datename+'/'\r\n",
        "    for batchname in os.listdir(date_path):\r\n",
        "        batch_path = date_path+batchname+'/'\r\n",
        "        files = cv.detect_stamp(datename,batchname,batch_path)\r\n",
        "        files_stamp_detected = files_stamp_detected + files\r\n",
        "        "
      ],
      "outputs": [
        {
          "output_type": "error",
          "ename": "NotADirectoryError",
          "evalue": "[Errno 20] Not a directory: '/tmp/tmp7miwt6bx/Part_1/0050064374852_Step-_Element-_34e24519-5398-4a8d-9554-f8ba08da5e82_IMG_4909.JPEG.jpg/'",
          "traceback": [
            "\u001b[0;31m---------------------------------------------------------------------------\u001b[0m",
            "\u001b[0;31mNotADirectoryError\u001b[0m                        Traceback (most recent call last)",
            "Input \u001b[0;32mIn [9]\u001b[0m, in \u001b[0;36m<cell line: 2>\u001b[0;34m()\u001b[0m\n\u001b[1;32m      4\u001b[0m \u001b[38;5;28;01mfor\u001b[39;00m batchname \u001b[38;5;129;01min\u001b[39;00m os\u001b[38;5;241m.\u001b[39mlistdir(date_path):\n\u001b[1;32m      5\u001b[0m     batch_path \u001b[38;5;241m=\u001b[39m date_path\u001b[38;5;241m+\u001b[39mbatchname\u001b[38;5;241m+\u001b[39m\u001b[38;5;124m'\u001b[39m\u001b[38;5;124m/\u001b[39m\u001b[38;5;124m'\u001b[39m\n\u001b[0;32m----> 6\u001b[0m     files \u001b[38;5;241m=\u001b[39m \u001b[43mcv\u001b[49m\u001b[38;5;241;43m.\u001b[39;49m\u001b[43mdetect_stamp\u001b[49m\u001b[43m(\u001b[49m\u001b[43mdatename\u001b[49m\u001b[43m,\u001b[49m\u001b[43mbatchname\u001b[49m\u001b[43m,\u001b[49m\u001b[43mbatch_path\u001b[49m\u001b[43m)\u001b[49m\n\u001b[1;32m      7\u001b[0m     files_stamp_detected \u001b[38;5;241m=\u001b[39m files_stamp_detected \u001b[38;5;241m+\u001b[39m files\n",
            "File \u001b[0;32m/mnt/batch/tasks/shared/LS_root/mounts/clusters/aalab-hubaith-nonpii/code/Users/hubaith/fraud_doc_analytics/computer_version.py:80\u001b[0m, in \u001b[0;36mcomputer_version_rules.detect_stamp\u001b[0;34m(self, date_name, batch_name, batch_path)\u001b[0m\n\u001b[1;32m     77\u001b[0m kp1,des1 \u001b[38;5;241m=\u001b[39m orb\u001b[38;5;241m.\u001b[39mdetectAndCompute(train_image_blur,\u001b[38;5;28;01mNone\u001b[39;00m)\n\u001b[1;32m     79\u001b[0m \u001b[38;5;66;03m#Iterating every image from each folder \u001b[39;00m\n\u001b[0;32m---> 80\u001b[0m \u001b[38;5;28;01mfor\u001b[39;00m filename \u001b[38;5;129;01min\u001b[39;00m \u001b[43mos\u001b[49m\u001b[38;5;241;43m.\u001b[39;49m\u001b[43mlistdir\u001b[49m\u001b[43m(\u001b[49m\u001b[43mbatch_path\u001b[49m\u001b[43m)\u001b[49m:\n\u001b[1;32m     81\u001b[0m     \u001b[38;5;66;03m# print(filename)\u001b[39;00m\n\u001b[1;32m     82\u001b[0m     \u001b[38;5;28;01mif\u001b[39;00m filename\u001b[38;5;241m.\u001b[39mendswith(\u001b[38;5;124m'\u001b[39m\u001b[38;5;124mtif\u001b[39m\u001b[38;5;124m'\u001b[39m) \u001b[38;5;129;01mor\u001b[39;00m filename\u001b[38;5;241m.\u001b[39mendswith(\u001b[38;5;124m\"\u001b[39m\u001b[38;5;124m.jpg\u001b[39m\u001b[38;5;124m\"\u001b[39m):\n\u001b[1;32m     83\u001b[0m         \u001b[38;5;66;03m#load image\u001b[39;00m\n\u001b[1;32m     84\u001b[0m         img \u001b[38;5;241m=\u001b[39m cv2\u001b[38;5;241m.\u001b[39mimread(batch_path \u001b[38;5;241m+\u001b[39m filename)\n",
            "\u001b[0;31mNotADirectoryError\u001b[0m: [Errno 20] Not a directory: '/tmp/tmp7miwt6bx/Part_1/0050064374852_Step-_Element-_34e24519-5398-4a8d-9554-f8ba08da5e82_IMG_4909.JPEG.jpg/'"
          ]
        }
      ],
      "execution_count": 9,
      "metadata": {
        "jupyter": {
          "source_hidden": false,
          "outputs_hidden": false
        },
        "nteract": {
          "transient": {
            "deleting": false
          }
        },
        "gather": {
          "logged": 1680790928439
        }
      }
    },
    {
      "cell_type": "code",
      "source": [
        "test"
      ],
      "outputs": [
        {
          "output_type": "execute_result",
          "execution_count": 6,
          "data": {
            "text/plain": "['Test_111_00030.tif']"
          },
          "metadata": {}
        }
      ],
      "execution_count": 6,
      "metadata": {
        "jupyter": {
          "source_hidden": false,
          "outputs_hidden": false
        },
        "nteract": {
          "transient": {
            "deleting": false
          }
        },
        "gather": {
          "logged": 1665510157600
        }
      }
    },
    {
      "cell_type": "code",
      "source": [
        "fr = doc_read(input_path,local_output_path)"
      ],
      "outputs": [],
      "execution_count": 9,
      "metadata": {
        "jupyter": {
          "source_hidden": false,
          "outputs_hidden": false
        },
        "nteract": {
          "transient": {
            "deleting": false
          }
        },
        "gather": {
          "logged": 1676305220990
        }
      }
    },
    {
      "cell_type": "code",
      "source": [
        "date_name = 'Test'\r\n",
        "batch_name = '111'\r\n",
        "input_path = 'output/'\r\n",
        "files_with_stamp = cv.detect_stamp(date_name,batch_name,input_path)\r\n",
        "test2  = fr.read_document(date_name,batch_name,input_path)\r\n",
        "test2  = fr.sort_document(batch_name, test2)\r\n",
        "# test2  = fr.parse_metadata(batch_name, input_path,local_output_path, test2)\r\n",
        "test2 = fr.handwritten_per(batch_name,test2)\r\n",
        "test2 = fr.check_stamp(test2,files_with_stamp)"
      ],
      "outputs": [
        {
          "output_type": "stream",
          "name": "stdout",
          "text": "Read 1 images' text in batch 111\nLabelled batch 111\nCalculating handwritten percentage of files in batch 111\n"
        }
      ],
      "execution_count": 6,
      "metadata": {
        "jupyter": {
          "source_hidden": false,
          "outputs_hidden": false
        },
        "nteract": {
          "transient": {
            "deleting": false
          }
        },
        "gather": {
          "logged": 1667334016928
        }
      }
    },
    {
      "cell_type": "code",
      "source": [
        "test2 = rules.paid_by_cash(test2)\r\n",
        "test2 = rules.has_dollar_symbol(test2)\r\n",
        "test2 = rules.handwritten_check(test2,0.3)\r\n",
        "test2 = rules.invoice_num_check(test2)\r\n",
        "test2 = rules.get_payment(test2)\r\n",
        "test2 = rules.address_check(test2)\r\n",
        "test2 = rules.get_reg_num(test2)"
      ],
      "outputs": [],
      "execution_count": 7,
      "metadata": {
        "jupyter": {
          "source_hidden": false,
          "outputs_hidden": false
        },
        "nteract": {
          "transient": {
            "deleting": false
          }
        },
        "gather": {
          "logged": 1667334017053
        }
      }
    },
    {
      "cell_type": "code",
      "source": [
        "test2"
      ],
      "outputs": [
        {
          "output_type": "execute_result",
          "execution_count": 8,
          "data": {
            "text/plain": "               file_name                                            content  \\\n0  Test_111_Capture2.jpg  THE PHYSIO SPOT HEALTH CLINIC INVOICE TO: NANC...   \n\n                                     word_confidence styles  \\\n0  {'THE': 0.997, 'PHYSIO': 0.995, 'SPOT': 0.991,...     []   \n\n            page_label  handwritten_percentage  has_stamp  paid_by_cash  \\\n0  paramedical invoice                       0      False         False   \n\n   no_dollar_symbol  above_handwritten_threshold  invalid_invoice_nbr  \\\n0              True                        False                False   \n\n  possible_invoice_nbr payment_amount  has_invalid_addr verified_address  \\\n0                 None           None              True               []   \n\n  register_num  \n0         None  ",
            "text/html": "<div>\n<style scoped>\n    .dataframe tbody tr th:only-of-type {\n        vertical-align: middle;\n    }\n\n    .dataframe tbody tr th {\n        vertical-align: top;\n    }\n\n    .dataframe thead th {\n        text-align: right;\n    }\n</style>\n<table border=\"1\" class=\"dataframe\">\n  <thead>\n    <tr style=\"text-align: right;\">\n      <th></th>\n      <th>file_name</th>\n      <th>content</th>\n      <th>word_confidence</th>\n      <th>styles</th>\n      <th>page_label</th>\n      <th>handwritten_percentage</th>\n      <th>has_stamp</th>\n      <th>paid_by_cash</th>\n      <th>no_dollar_symbol</th>\n      <th>above_handwritten_threshold</th>\n      <th>invalid_invoice_nbr</th>\n      <th>possible_invoice_nbr</th>\n      <th>payment_amount</th>\n      <th>has_invalid_addr</th>\n      <th>verified_address</th>\n      <th>register_num</th>\n    </tr>\n  </thead>\n  <tbody>\n    <tr>\n      <th>0</th>\n      <td>Test_111_Capture2.jpg</td>\n      <td>THE PHYSIO SPOT HEALTH CLINIC INVOICE TO: NANC...</td>\n      <td>{'THE': 0.997, 'PHYSIO': 0.995, 'SPOT': 0.991,...</td>\n      <td>[]</td>\n      <td>paramedical invoice</td>\n      <td>0</td>\n      <td>False</td>\n      <td>False</td>\n      <td>True</td>\n      <td>False</td>\n      <td>False</td>\n      <td>None</td>\n      <td>None</td>\n      <td>True</td>\n      <td>[]</td>\n      <td>None</td>\n    </tr>\n  </tbody>\n</table>\n</div>"
          },
          "metadata": {}
        }
      ],
      "execution_count": 8,
      "metadata": {
        "jupyter": {
          "source_hidden": false,
          "outputs_hidden": false
        },
        "nteract": {
          "transient": {
            "deleting": false
          }
        },
        "gather": {
          "logged": 1667334020548
        }
      }
    },
    {
      "cell_type": "code",
      "source": [
        "process_list = ['Oct-27-2022','Oct-31-2022']"
      ],
      "outputs": [],
      "execution_count": 7,
      "metadata": {
        "jupyter": {
          "source_hidden": false,
          "outputs_hidden": false
        },
        "nteract": {
          "transient": {
            "deleting": false
          }
        },
        "gather": {
          "logged": 1669841009578
        }
      }
    },
    {
      "cell_type": "code",
      "source": [
        "for datename in os.listdir(input_path):\r\n",
        "    if datename in process_list:\r\n",
        "        date_path = input_path+datename+'/'\r\n",
        "\r\n",
        "        for batchname in os.listdir(date_path):\r\n",
        "            if batchname in ['08000013-155028','08000014-155028', '08000015-160242'] or datename == 'Oct-31-2022':\r\n",
        "                print(datename)\r\n",
        "                print(batchname)\r\n",
        "                batch_path = date_path + batchname +'/'\r\n",
        "                files_with_stamp = cv.detect_stamp(datename,batchname,batch_path)\r\n",
        "                df_out = fr.read_document(datename,batchname,batch_path)\r\n",
        "                df_out = fr.sort_document(batchname, df_out)\r\n",
        "                # df_out = fr.parse_metadata(batchname, batch_path,local_output_path, df_out)\r\n",
        "                df_out = fr.handwritten_per(batchname,df_out)\r\n",
        "                df_out = fr.check_stamp(df_out, files_with_stamp)\r\n",
        "\r\n",
        "\r\n",
        "\r\n",
        "                # write to a tmp path on compute instance\r\n",
        "                temp_out_file_path = local_output_path + datename + '_'+batchname + '.csv'\r\n",
        "                df_out.to_csv(temp_out_file_path, index = False)\r\n",
        "\r\n",
        "                print('read and label batch {} successfully, save to {}'.format(batchname,datename + '_'+batchname + '.csv'))"
      ],
      "outputs": [
        {
          "output_type": "error",
          "ename": "NameError",
          "evalue": "name 'process_list' is not defined",
          "traceback": [
            "\u001b[0;31m---------------------------------------------------------------------------\u001b[0m",
            "\u001b[0;31mNameError\u001b[0m                                 Traceback (most recent call last)",
            "Input \u001b[0;32mIn [5]\u001b[0m, in \u001b[0;36m<cell line: 1>\u001b[0;34m()\u001b[0m\n\u001b[1;32m      1\u001b[0m \u001b[38;5;28;01mfor\u001b[39;00m datename \u001b[38;5;129;01min\u001b[39;00m os\u001b[38;5;241m.\u001b[39mlistdir(input_path):\n\u001b[0;32m----> 2\u001b[0m     \u001b[38;5;28;01mif\u001b[39;00m datename \u001b[38;5;129;01min\u001b[39;00m \u001b[43mprocess_list\u001b[49m:\n\u001b[1;32m      3\u001b[0m         date_path \u001b[38;5;241m=\u001b[39m input_path\u001b[38;5;241m+\u001b[39mdatename\u001b[38;5;241m+\u001b[39m\u001b[38;5;124m'\u001b[39m\u001b[38;5;124m/\u001b[39m\u001b[38;5;124m'\u001b[39m\n\u001b[1;32m      5\u001b[0m         \u001b[38;5;28;01mfor\u001b[39;00m batchname \u001b[38;5;129;01min\u001b[39;00m os\u001b[38;5;241m.\u001b[39mlistdir(date_path):\n",
            "\u001b[0;31mNameError\u001b[0m: name 'process_list' is not defined"
          ]
        }
      ],
      "execution_count": 5,
      "metadata": {
        "jupyter": {
          "source_hidden": false,
          "outputs_hidden": false
        },
        "nteract": {
          "transient": {
            "deleting": false
          }
        },
        "gather": {
          "logged": 1676399416210
        }
      }
    },
    {
      "cell_type": "code",
      "source": [
        "# For OCS files test \r\n",
        "\r\n",
        "for part in os.listdir(input_path):    \r\n",
        "    batch_path = input_path + part +'/'\r\n",
        "    files_with_stamp = cv.detect_stamp('OCS_files_2',part,batch_path)\r\n",
        "    df_out = fr.read_document('OCS_files_2',part,batch_path)\r\n",
        "    df_out = fr.sort_document(part, df_out)\r\n",
        "    # df_out = fr.parse_metadata(batchname, batch_path,local_output_path, df_out)\r\n",
        "    df_out = fr.handwritten_per(part,df_out)\r\n",
        "    df_out = fr.check_stamp(df_out, files_with_stamp)\r\n",
        "\r\n",
        "\r\n",
        "\r\n",
        "    # write to a tmp path on compute instance\r\n",
        "    temp_out_file_path = local_output_path + 'OCS_Test_'+part +'_02102023'+'.csv'\r\n",
        "    df_out.to_csv(temp_out_file_path, index = False)\r\n",
        "\r\n",
        "    print('read and label batch {} successfully, save to {}'.format(part,temp_out_file_path))"
      ],
      "outputs": [
        {
          "output_type": "stream",
          "name": "stderr",
          "text": "Invalid SOS parameters for sequential JPEG\nInvalid SOS parameters for sequential JPEG\n"
        },
        {
          "output_type": "stream",
          "name": "stdout",
          "text": "Read 2510 images' text in batch Feb_Part3\nLabelled batch Feb_Part3\nCalculating handwritten percentage of files in batch Feb_Part3\nread and label batch Feb_Part3 successfully, save to output/OCS_Test_Feb_Part3_02102023.csv\n"
        }
      ],
      "execution_count": 10,
      "metadata": {
        "jupyter": {
          "source_hidden": false,
          "outputs_hidden": false
        },
        "nteract": {
          "transient": {
            "deleting": false
          }
        },
        "gather": {
          "logged": 1676319338360
        }
      }
    },
    {
      "cell_type": "code",
      "source": [
        "df = pd.read_csv('output/Oct-25-2022_08000003-154055.csv')\r\n",
        "df = fr.sort_document('111', df)\r\n",
        "df.head()"
      ],
      "outputs": [
        {
          "output_type": "stream",
          "name": "stdout",
          "text": "Labelled batch 111\n"
        },
        {
          "output_type": "execute_result",
          "execution_count": 17,
          "data": {
            "text/plain": "                               file_name  \\\n0  Oct-25-2022_08000003-154055_00010.tif   \n1  Oct-25-2022_08000003-154055_00011.tif   \n2  Oct-25-2022_08000003-154055_00020.tif   \n3  Oct-25-2022_08000003-154055_00030.tif   \n4  Oct-25-2022_08000003-154055_00040.tif   \n\n                                             content  \\\n0  OTIP Health Claims PO Box 280 Waterloo ON N2J ...   \n1  SECTION 5: EQUIPMENT AND APPLIANCE EXPENSES Fo...   \n2  Cleveland Clinic Canada James Anderson 820 Mil...   \n3  Cleveland Clinic Canada James Anderson 820 Mil...   \n4  Cleveland Clinic Canada James Anderson 820 Mil...   \n\n                                     word_confidence  \\\n0  {'OTIP': 0.961, 'Health': 0.997, 'Claims': 0.6...   \n1  {'SECTION': 0.994, '5:': 0.997, 'EQUIPMENT': 0...   \n2  {'Cleveland': 0.993, 'Clinic': 0.997, 'Canada'...   \n3  {'Cleveland': 0.994, 'Clinic': 0.997, 'Canada'...   \n4  {'Cleveland': 0.993, 'Clinic': 0.997, 'Canada'...   \n\n                                              styles  handwritten_percentage  \\\n0  [DocumentStyle(is_handwritten=True, spans=[Doc...                   0.058   \n1  [DocumentStyle(is_handwritten=True, spans=[Doc...                   0.007   \n2  [DocumentStyle(is_handwritten=True, spans=[Doc...                   0.003   \n3  [DocumentStyle(is_handwritten=True, spans=[Doc...                   0.003   \n4  [DocumentStyle(is_handwritten=True, spans=[Doc...                   0.003   \n\n   has_stamp           page_label  \n0      False         drug_receipt  \n1      False       claim_page_two  \n2      False  paramedical invoice  \n3      False  paramedical invoice  \n4      False  paramedical invoice  ",
            "text/html": "<div>\n<style scoped>\n    .dataframe tbody tr th:only-of-type {\n        vertical-align: middle;\n    }\n\n    .dataframe tbody tr th {\n        vertical-align: top;\n    }\n\n    .dataframe thead th {\n        text-align: right;\n    }\n</style>\n<table border=\"1\" class=\"dataframe\">\n  <thead>\n    <tr style=\"text-align: right;\">\n      <th></th>\n      <th>file_name</th>\n      <th>content</th>\n      <th>word_confidence</th>\n      <th>styles</th>\n      <th>handwritten_percentage</th>\n      <th>has_stamp</th>\n      <th>page_label</th>\n    </tr>\n  </thead>\n  <tbody>\n    <tr>\n      <th>0</th>\n      <td>Oct-25-2022_08000003-154055_00010.tif</td>\n      <td>OTIP Health Claims PO Box 280 Waterloo ON N2J ...</td>\n      <td>{'OTIP': 0.961, 'Health': 0.997, 'Claims': 0.6...</td>\n      <td>[DocumentStyle(is_handwritten=True, spans=[Doc...</td>\n      <td>0.058</td>\n      <td>False</td>\n      <td>drug_receipt</td>\n    </tr>\n    <tr>\n      <th>1</th>\n      <td>Oct-25-2022_08000003-154055_00011.tif</td>\n      <td>SECTION 5: EQUIPMENT AND APPLIANCE EXPENSES Fo...</td>\n      <td>{'SECTION': 0.994, '5:': 0.997, 'EQUIPMENT': 0...</td>\n      <td>[DocumentStyle(is_handwritten=True, spans=[Doc...</td>\n      <td>0.007</td>\n      <td>False</td>\n      <td>claim_page_two</td>\n    </tr>\n    <tr>\n      <th>2</th>\n      <td>Oct-25-2022_08000003-154055_00020.tif</td>\n      <td>Cleveland Clinic Canada James Anderson 820 Mil...</td>\n      <td>{'Cleveland': 0.993, 'Clinic': 0.997, 'Canada'...</td>\n      <td>[DocumentStyle(is_handwritten=True, spans=[Doc...</td>\n      <td>0.003</td>\n      <td>False</td>\n      <td>paramedical invoice</td>\n    </tr>\n    <tr>\n      <th>3</th>\n      <td>Oct-25-2022_08000003-154055_00030.tif</td>\n      <td>Cleveland Clinic Canada James Anderson 820 Mil...</td>\n      <td>{'Cleveland': 0.994, 'Clinic': 0.997, 'Canada'...</td>\n      <td>[DocumentStyle(is_handwritten=True, spans=[Doc...</td>\n      <td>0.003</td>\n      <td>False</td>\n      <td>paramedical invoice</td>\n    </tr>\n    <tr>\n      <th>4</th>\n      <td>Oct-25-2022_08000003-154055_00040.tif</td>\n      <td>Cleveland Clinic Canada James Anderson 820 Mil...</td>\n      <td>{'Cleveland': 0.993, 'Clinic': 0.997, 'Canada'...</td>\n      <td>[DocumentStyle(is_handwritten=True, spans=[Doc...</td>\n      <td>0.003</td>\n      <td>False</td>\n      <td>paramedical invoice</td>\n    </tr>\n  </tbody>\n</table>\n</div>"
          },
          "metadata": {}
        }
      ],
      "execution_count": 17,
      "metadata": {
        "jupyter": {
          "source_hidden": false,
          "outputs_hidden": false
        },
        "nteract": {
          "transient": {
            "deleting": false
          }
        },
        "gather": {
          "logged": 1669920008539
        }
      }
    },
    {
      "cell_type": "code",
      "source": [
        "df.to_csv('output/Oct-25-2022_08000003-154055.csv')"
      ],
      "outputs": [],
      "execution_count": 18,
      "metadata": {
        "jupyter": {
          "source_hidden": false,
          "outputs_hidden": false
        },
        "nteract": {
          "transient": {
            "deleting": false
          }
        },
        "gather": {
          "logged": 1669920021374
        }
      }
    },
    {
      "cell_type": "code",
      "source": [
        "rules = fraud_document_analytics()"
      ],
      "outputs": [],
      "execution_count": 14,
      "metadata": {
        "jupyter": {
          "source_hidden": false,
          "outputs_hidden": false
        },
        "nteract": {
          "transient": {
            "deleting": false
          }
        },
        "gather": {
          "logged": 1676398924527
        }
      }
    },
    {
      "cell_type": "code",
      "source": [
        "out_df = pd.DataFrame()\r\n",
        "for files in os.listdir(local_output_path):\r\n",
        "    if files.startswith('OCS') and files.endswith('02102023.csv'):\r\n",
        "        doc_text_path = local_output_path+files\r\n",
        "        print(doc_text_path)\r\n",
        "        df = pd.read_csv(doc_text_path)\r\n",
        "        invoices = ['paramedical invoice', 'other_receipt']\r\n",
        "        df = df[df['page_label'].isin(invoices)]\r\n",
        "        df = rules.paid_by_cash(df)\r\n",
        "        df = rules.has_dollar_symbol(df)\r\n",
        "        df = rules.handwritten_check(df,0.3)\r\n",
        "        df = rules.invoice_num_check(df)\r\n",
        "        df = rules.get_payment(df)\r\n",
        "        df = rules.address_check(df)\r\n",
        "        df = rules.get_reg_num(df)\r\n",
        "    \r\n",
        "        out_df = out_df.append(df, ignore_index = True)\r\n",
        "\r\n",
        "out_df = out_df.fillna(False)\r\n",
        "\r\n",
        " #Remove Costco cases\r\n",
        "for ind in out_df.index:\r\n",
        "    if out_df['has_stamp'][ind] ==True and out_df['content'][ind].lower().find('costco')>-1:\r\n",
        "        print(out_df['file_name'][ind])\r\n",
        "        out_df['has_stamp'][ind] = False"
      ],
      "outputs": [
        {
          "output_type": "stream",
          "name": "stdout",
          "text": "output/OCS_Test_Feb_Part1_02102023.csv\noutput/OCS_Test_Feb_Part3_02102023.csv\n"
        }
      ],
      "execution_count": 15,
      "metadata": {
        "jupyter": {
          "source_hidden": false,
          "outputs_hidden": false
        },
        "nteract": {
          "transient": {
            "deleting": false
          }
        },
        "gather": {
          "logged": 1676398928453
        }
      }
    },
    {
      "cell_type": "code",
      "source": [
        "out_df.head(20)"
      ],
      "outputs": [
        {
          "output_type": "execute_result",
          "execution_count": 38,
          "data": {
            "text/plain": "                                            file_name  \\\n0   OCS_files_Part_1_0050064385309_Step-_Element-_...   \n1   OCS_files_Part_1_0050064385313_Step-_Element-_...   \n2   OCS_files_Part_1_0050064385313_Step-_Element-_...   \n3   OCS_files_Part_1_0050064385322_Step-_Element-_...   \n4   OCS_files_Part_1_0050064385323_Step-_Element-_...   \n5   OCS_files_Part_1_0050064385333_Step-_Element-_...   \n6   OCS_files_Part_1_0050064385335_Step-_Element-_...   \n7   OCS_files_Part_1_0050064385355_Step-_Element-_...   \n8   OCS_files_Part_1_0050064385360_Step-_Element-_...   \n9   OCS_files_Part_1_0050064385364_Step-_Element-_...   \n10  OCS_files_Part_1_0050064385366_Step-_Element-_...   \n11  OCS_files_Part_1_0050064385370_Step-_Element-_...   \n12  OCS_files_Part_1_0050064385373_Step-_Element-_...   \n13  OCS_files_Part_1_0050064385373_Step-_Element-_...   \n14  OCS_files_Part_1_0050064385373_Step-_Element-_...   \n15  OCS_files_Part_1_0050064385373_Step-_Element-_...   \n16  OCS_files_Part_1_0050064385373_Step-_Element-_...   \n17  OCS_files_Part_1_0050064385375_Step-_Element-_...   \n18  OCS_files_Part_1_0050064385381_Step-_Element-_...   \n19  OCS_files_Part_1_0050064385387_Step-_Element-_...   \n\n                                              content  \\\n0   P: 204.560.5710 | F: 204.560.5715 1873 GRANT A...   \n1   OFFICIAL RECEIPT Received from: Laura Leslie $...   \n2   OFFICIAL RECEIPT Received from: Laura Leslie $...   \n3   Invoice / Facture Paid / Payé Sold by / Vendu ...   \n4   TORONTO PSYCHOLOGY CLINIC Toronto Psychology C...   \n5   PHYSIOTHERAPY 880 Upper Wentworth St #2B Hamil...   \n6   PERFORMANCE INTEGRATED HEALTH Jesbinder Dhoot ...   \n7   Summit Sports and Health 2-704 Broadway Ave, S...   \n8   Page 1 of 1 Bill To: Manulife Financial P.O. B...   \n9   Thursday, December 8, 2022 Dr. Robert Waybrant...   \n10  VENDU À Ankush Nayar ADDRESS ADRESSE 34 Hendri...   \n11  GRANDSRIVER HOSPITAL TO VASIGA-RAILSBACK, MICH...   \n12  11:16 :' TRIUMPH PHYSIO AND WELLNESS Bhartu Ph...   \n13  11:17 :' 0 8 · ill 00 00 ... K TRIUMPH PHYSIO ...   \n14  11:18 9 .' 9 . ill 00 00 ... TRIUMPH PHYSIO AN...   \n15  11:16 & TRIUMPH PHYSIO AND WELLNESS Bhartu Phy...   \n16  11:17 & TRIUMPH PHYSIO AND WELLNESS Bhartu Phy...   \n17  VOMOTION HEALTH AND WELLNESS Evomotion Health ...   \n18  BAYRIDGE COUNSFILING C-KIRIS A BAYRIDGE CIRCLE...   \n19  Dr. Bhavna Sharma Dentistry Professional Corp....   \n\n                                      word_confidence  \\\n0   {'P:': 0.991, '204.560.5710': 0.98, '|': 0.065...   \n1   {'OFFICIAL': 0.995, 'RECEIPT': 0.996, 'Receive...   \n2   {'OFFICIAL': 0.994, 'RECEIPT': 0.996, 'Receive...   \n3   {'Invoice': 0.931, '/': 0.994, 'Facture': 0.99...   \n4   {'TORONTO': 0.996, 'PSYCHOLOGY': 0.994, 'CLINI...   \n5   {'PHYSIOTHERAPY': 0.843, '880': 0.954, 'Upper'...   \n6   {'PERFORMANCE': 0.991, 'INTEGRATED': 0.993, 'H...   \n7   {'Summit': 0.994, 'Sports': 0.993, 'and': 0.99...   \n8   {'Page': 0.991, '1': 0.994, 'of': 0.992, 'Bill...   \n9   {'Thursday,': 0.993, 'December': 0.996, '8,': ...   \n10  {'VENDU': 0.993, 'À': 0.009, 'Ankush': 0.987, ...   \n11  {'GRANDSRIVER': 0.574, 'HOSPITAL': 0.994, 'TO'...   \n12  {'11:16': 0.994, \":'\": 0.005, 'TRIUMPH': 0.996...   \n13  {'11:17': 0.995, \":'\": 0.044, '0': 0.083, '8':...   \n14  {'11:18': 0.991, '9': 0.004, \".'\": 0.222, '.':...   \n15  {'11:16': 0.997, '&': 0.018, 'TRIUMPH': 0.996,...   \n16  {'11:17': 0.997, '&': 0.034, 'TRIUMPH': 0.996,...   \n17  {'VOMOTION': 0.995, 'HEALTH': 0.994, 'AND': 0....   \n18  {'BAYRIDGE': 0.988, 'COUNSFILING': 0.206, 'C-K...   \n19  {'Dr.': 0.996, 'Bhavna': 0.996, 'Sharma': 0.99...   \n\n                                               styles           page_label  \\\n0                                                  []        other_receipt   \n1   [DocumentStyle(is_handwritten=True, spans=[Doc...  paramedical invoice   \n2   [DocumentStyle(is_handwritten=True, spans=[Doc...  paramedical invoice   \n3                                                  []        other_receipt   \n4                                                  []  paramedical invoice   \n5                                                  []  paramedical invoice   \n6                                                  []  paramedical invoice   \n7                                                  []  paramedical invoice   \n8                                                  []  paramedical invoice   \n9                                                  []  paramedical invoice   \n10  [DocumentStyle(is_handwritten=True, spans=[Doc...  paramedical invoice   \n11                                                 []        other_receipt   \n12                                                 []  paramedical invoice   \n13  [DocumentStyle(is_handwritten=True, spans=[Doc...  paramedical invoice   \n14  [DocumentStyle(is_handwritten=True, spans=[Doc...  paramedical invoice   \n15                                                 []  paramedical invoice   \n16                                                 []  paramedical invoice   \n17                                                 []  paramedical invoice   \n18                                                 []  paramedical invoice   \n19                                                 []        other_receipt   \n\n    handwritten_percentage  has_stamp  paid_by_cash  no_dollar_symbol  \\\n0                    0.000      False         False             False   \n1                    0.181      False         False             False   \n2                    0.181      False         False             False   \n3                    0.000      False         False             False   \n4                    0.000      False         False             False   \n5                    0.000      False         False             False   \n6                    0.000      False         False             False   \n7                    0.000      False         False             False   \n8                    0.000      False         False             False   \n9                    0.000      False         False             False   \n10                   0.175      False         False              True   \n11                   0.000      False         False             False   \n12                   0.000      False         False              True   \n13                   0.003      False         False             False   \n14                   0.004      False         False             False   \n15                   0.000      False         False             False   \n16                   0.000      False         False             False   \n17                   0.000      False         False             False   \n18                   0.000      False         False             False   \n19                   0.000      False         False             False   \n\n    above_handwritten_threshold  invalid_invoice_nbr possible_invoice_nbr  \\\n0                         False                False             0000715g   \n1                         False                False                False   \n2                         False                False                False   \n3                         False                False                False   \n4                         False                False           #20318-p01   \n5                         False                False               #75438   \n6                         False                False          #294686-po1   \n7                         False                False           #55298-p01   \n8                         False                False                False   \n9                         False                False                False   \n10                        False                False                False   \n11                        False                False           1000011857   \n12                        False                False           #16287-po1   \n13                        False                False           #17514-p02   \n14                        False                False           #17800-p01   \n15                        False                False           #16442-po1   \n16                        False                False           #16810-p01   \n17                        False                False             #205-po1   \n18                        False                False                False   \n19                        False                False                False   \n\n   payment_amount  has_invalid_addr  verified_address register_num  \n0             240             False             False        False  \n1           False             False             False        False  \n2           False             False             False        False  \n3           32.77              True             False        False  \n4             180             False             False        False  \n5             228             False             False        False  \n6              63             False             False        False  \n7              90             False             False        False  \n8             100             False             False        False  \n9               5             False             False        False  \n10            1.6              True             False        False  \n11             25             False             False        False  \n12          False             False             False        False  \n13         120.75             False             False        False  \n14          48.75             False             False        False  \n15          48.75             False             False        False  \n16          48.75             False             False        False  \n17             55             False             False        False  \n18          293.8             False             False        False  \n19            240             False             False        False  ",
            "text/html": "<div>\n<style scoped>\n    .dataframe tbody tr th:only-of-type {\n        vertical-align: middle;\n    }\n\n    .dataframe tbody tr th {\n        vertical-align: top;\n    }\n\n    .dataframe thead th {\n        text-align: right;\n    }\n</style>\n<table border=\"1\" class=\"dataframe\">\n  <thead>\n    <tr style=\"text-align: right;\">\n      <th></th>\n      <th>file_name</th>\n      <th>content</th>\n      <th>word_confidence</th>\n      <th>styles</th>\n      <th>page_label</th>\n      <th>handwritten_percentage</th>\n      <th>has_stamp</th>\n      <th>paid_by_cash</th>\n      <th>no_dollar_symbol</th>\n      <th>above_handwritten_threshold</th>\n      <th>invalid_invoice_nbr</th>\n      <th>possible_invoice_nbr</th>\n      <th>payment_amount</th>\n      <th>has_invalid_addr</th>\n      <th>verified_address</th>\n      <th>register_num</th>\n    </tr>\n  </thead>\n  <tbody>\n    <tr>\n      <th>0</th>\n      <td>OCS_files_Part_1_0050064385309_Step-_Element-_...</td>\n      <td>P: 204.560.5710 | F: 204.560.5715 1873 GRANT A...</td>\n      <td>{'P:': 0.991, '204.560.5710': 0.98, '|': 0.065...</td>\n      <td>[]</td>\n      <td>other_receipt</td>\n      <td>0.000</td>\n      <td>False</td>\n      <td>False</td>\n      <td>False</td>\n      <td>False</td>\n      <td>False</td>\n      <td>0000715g</td>\n      <td>240</td>\n      <td>False</td>\n      <td>False</td>\n      <td>False</td>\n    </tr>\n    <tr>\n      <th>1</th>\n      <td>OCS_files_Part_1_0050064385313_Step-_Element-_...</td>\n      <td>OFFICIAL RECEIPT Received from: Laura Leslie $...</td>\n      <td>{'OFFICIAL': 0.995, 'RECEIPT': 0.996, 'Receive...</td>\n      <td>[DocumentStyle(is_handwritten=True, spans=[Doc...</td>\n      <td>paramedical invoice</td>\n      <td>0.181</td>\n      <td>False</td>\n      <td>False</td>\n      <td>False</td>\n      <td>False</td>\n      <td>False</td>\n      <td>False</td>\n      <td>False</td>\n      <td>False</td>\n      <td>False</td>\n      <td>False</td>\n    </tr>\n    <tr>\n      <th>2</th>\n      <td>OCS_files_Part_1_0050064385313_Step-_Element-_...</td>\n      <td>OFFICIAL RECEIPT Received from: Laura Leslie $...</td>\n      <td>{'OFFICIAL': 0.994, 'RECEIPT': 0.996, 'Receive...</td>\n      <td>[DocumentStyle(is_handwritten=True, spans=[Doc...</td>\n      <td>paramedical invoice</td>\n      <td>0.181</td>\n      <td>False</td>\n      <td>False</td>\n      <td>False</td>\n      <td>False</td>\n      <td>False</td>\n      <td>False</td>\n      <td>False</td>\n      <td>False</td>\n      <td>False</td>\n      <td>False</td>\n    </tr>\n    <tr>\n      <th>3</th>\n      <td>OCS_files_Part_1_0050064385322_Step-_Element-_...</td>\n      <td>Invoice / Facture Paid / Payé Sold by / Vendu ...</td>\n      <td>{'Invoice': 0.931, '/': 0.994, 'Facture': 0.99...</td>\n      <td>[]</td>\n      <td>other_receipt</td>\n      <td>0.000</td>\n      <td>False</td>\n      <td>False</td>\n      <td>False</td>\n      <td>False</td>\n      <td>False</td>\n      <td>False</td>\n      <td>32.77</td>\n      <td>True</td>\n      <td>False</td>\n      <td>False</td>\n    </tr>\n    <tr>\n      <th>4</th>\n      <td>OCS_files_Part_1_0050064385323_Step-_Element-_...</td>\n      <td>TORONTO PSYCHOLOGY CLINIC Toronto Psychology C...</td>\n      <td>{'TORONTO': 0.996, 'PSYCHOLOGY': 0.994, 'CLINI...</td>\n      <td>[]</td>\n      <td>paramedical invoice</td>\n      <td>0.000</td>\n      <td>False</td>\n      <td>False</td>\n      <td>False</td>\n      <td>False</td>\n      <td>False</td>\n      <td>#20318-p01</td>\n      <td>180</td>\n      <td>False</td>\n      <td>False</td>\n      <td>False</td>\n    </tr>\n    <tr>\n      <th>5</th>\n      <td>OCS_files_Part_1_0050064385333_Step-_Element-_...</td>\n      <td>PHYSIOTHERAPY 880 Upper Wentworth St #2B Hamil...</td>\n      <td>{'PHYSIOTHERAPY': 0.843, '880': 0.954, 'Upper'...</td>\n      <td>[]</td>\n      <td>paramedical invoice</td>\n      <td>0.000</td>\n      <td>False</td>\n      <td>False</td>\n      <td>False</td>\n      <td>False</td>\n      <td>False</td>\n      <td>#75438</td>\n      <td>228</td>\n      <td>False</td>\n      <td>False</td>\n      <td>False</td>\n    </tr>\n    <tr>\n      <th>6</th>\n      <td>OCS_files_Part_1_0050064385335_Step-_Element-_...</td>\n      <td>PERFORMANCE INTEGRATED HEALTH Jesbinder Dhoot ...</td>\n      <td>{'PERFORMANCE': 0.991, 'INTEGRATED': 0.993, 'H...</td>\n      <td>[]</td>\n      <td>paramedical invoice</td>\n      <td>0.000</td>\n      <td>False</td>\n      <td>False</td>\n      <td>False</td>\n      <td>False</td>\n      <td>False</td>\n      <td>#294686-po1</td>\n      <td>63</td>\n      <td>False</td>\n      <td>False</td>\n      <td>False</td>\n    </tr>\n    <tr>\n      <th>7</th>\n      <td>OCS_files_Part_1_0050064385355_Step-_Element-_...</td>\n      <td>Summit Sports and Health 2-704 Broadway Ave, S...</td>\n      <td>{'Summit': 0.994, 'Sports': 0.993, 'and': 0.99...</td>\n      <td>[]</td>\n      <td>paramedical invoice</td>\n      <td>0.000</td>\n      <td>False</td>\n      <td>False</td>\n      <td>False</td>\n      <td>False</td>\n      <td>False</td>\n      <td>#55298-p01</td>\n      <td>90</td>\n      <td>False</td>\n      <td>False</td>\n      <td>False</td>\n    </tr>\n    <tr>\n      <th>8</th>\n      <td>OCS_files_Part_1_0050064385360_Step-_Element-_...</td>\n      <td>Page 1 of 1 Bill To: Manulife Financial P.O. B...</td>\n      <td>{'Page': 0.991, '1': 0.994, 'of': 0.992, 'Bill...</td>\n      <td>[]</td>\n      <td>paramedical invoice</td>\n      <td>0.000</td>\n      <td>False</td>\n      <td>False</td>\n      <td>False</td>\n      <td>False</td>\n      <td>False</td>\n      <td>False</td>\n      <td>100</td>\n      <td>False</td>\n      <td>False</td>\n      <td>False</td>\n    </tr>\n    <tr>\n      <th>9</th>\n      <td>OCS_files_Part_1_0050064385364_Step-_Element-_...</td>\n      <td>Thursday, December 8, 2022 Dr. Robert Waybrant...</td>\n      <td>{'Thursday,': 0.993, 'December': 0.996, '8,': ...</td>\n      <td>[]</td>\n      <td>paramedical invoice</td>\n      <td>0.000</td>\n      <td>False</td>\n      <td>False</td>\n      <td>False</td>\n      <td>False</td>\n      <td>False</td>\n      <td>False</td>\n      <td>5</td>\n      <td>False</td>\n      <td>False</td>\n      <td>False</td>\n    </tr>\n    <tr>\n      <th>10</th>\n      <td>OCS_files_Part_1_0050064385366_Step-_Element-_...</td>\n      <td>VENDU À Ankush Nayar ADDRESS ADRESSE 34 Hendri...</td>\n      <td>{'VENDU': 0.993, 'À': 0.009, 'Ankush': 0.987, ...</td>\n      <td>[DocumentStyle(is_handwritten=True, spans=[Doc...</td>\n      <td>paramedical invoice</td>\n      <td>0.175</td>\n      <td>False</td>\n      <td>False</td>\n      <td>True</td>\n      <td>False</td>\n      <td>False</td>\n      <td>False</td>\n      <td>1.6</td>\n      <td>True</td>\n      <td>False</td>\n      <td>False</td>\n    </tr>\n    <tr>\n      <th>11</th>\n      <td>OCS_files_Part_1_0050064385370_Step-_Element-_...</td>\n      <td>GRANDSRIVER HOSPITAL TO VASIGA-RAILSBACK, MICH...</td>\n      <td>{'GRANDSRIVER': 0.574, 'HOSPITAL': 0.994, 'TO'...</td>\n      <td>[]</td>\n      <td>other_receipt</td>\n      <td>0.000</td>\n      <td>False</td>\n      <td>False</td>\n      <td>False</td>\n      <td>False</td>\n      <td>False</td>\n      <td>1000011857</td>\n      <td>25</td>\n      <td>False</td>\n      <td>False</td>\n      <td>False</td>\n    </tr>\n    <tr>\n      <th>12</th>\n      <td>OCS_files_Part_1_0050064385373_Step-_Element-_...</td>\n      <td>11:16 :' TRIUMPH PHYSIO AND WELLNESS Bhartu Ph...</td>\n      <td>{'11:16': 0.994, \":'\": 0.005, 'TRIUMPH': 0.996...</td>\n      <td>[]</td>\n      <td>paramedical invoice</td>\n      <td>0.000</td>\n      <td>False</td>\n      <td>False</td>\n      <td>True</td>\n      <td>False</td>\n      <td>False</td>\n      <td>#16287-po1</td>\n      <td>False</td>\n      <td>False</td>\n      <td>False</td>\n      <td>False</td>\n    </tr>\n    <tr>\n      <th>13</th>\n      <td>OCS_files_Part_1_0050064385373_Step-_Element-_...</td>\n      <td>11:17 :' 0 8 · ill 00 00 ... K TRIUMPH PHYSIO ...</td>\n      <td>{'11:17': 0.995, \":'\": 0.044, '0': 0.083, '8':...</td>\n      <td>[DocumentStyle(is_handwritten=True, spans=[Doc...</td>\n      <td>paramedical invoice</td>\n      <td>0.003</td>\n      <td>False</td>\n      <td>False</td>\n      <td>False</td>\n      <td>False</td>\n      <td>False</td>\n      <td>#17514-p02</td>\n      <td>120.75</td>\n      <td>False</td>\n      <td>False</td>\n      <td>False</td>\n    </tr>\n    <tr>\n      <th>14</th>\n      <td>OCS_files_Part_1_0050064385373_Step-_Element-_...</td>\n      <td>11:18 9 .' 9 . ill 00 00 ... TRIUMPH PHYSIO AN...</td>\n      <td>{'11:18': 0.991, '9': 0.004, \".'\": 0.222, '.':...</td>\n      <td>[DocumentStyle(is_handwritten=True, spans=[Doc...</td>\n      <td>paramedical invoice</td>\n      <td>0.004</td>\n      <td>False</td>\n      <td>False</td>\n      <td>False</td>\n      <td>False</td>\n      <td>False</td>\n      <td>#17800-p01</td>\n      <td>48.75</td>\n      <td>False</td>\n      <td>False</td>\n      <td>False</td>\n    </tr>\n    <tr>\n      <th>15</th>\n      <td>OCS_files_Part_1_0050064385373_Step-_Element-_...</td>\n      <td>11:16 &amp; TRIUMPH PHYSIO AND WELLNESS Bhartu Phy...</td>\n      <td>{'11:16': 0.997, '&amp;': 0.018, 'TRIUMPH': 0.996,...</td>\n      <td>[]</td>\n      <td>paramedical invoice</td>\n      <td>0.000</td>\n      <td>False</td>\n      <td>False</td>\n      <td>False</td>\n      <td>False</td>\n      <td>False</td>\n      <td>#16442-po1</td>\n      <td>48.75</td>\n      <td>False</td>\n      <td>False</td>\n      <td>False</td>\n    </tr>\n    <tr>\n      <th>16</th>\n      <td>OCS_files_Part_1_0050064385373_Step-_Element-_...</td>\n      <td>11:17 &amp; TRIUMPH PHYSIO AND WELLNESS Bhartu Phy...</td>\n      <td>{'11:17': 0.997, '&amp;': 0.034, 'TRIUMPH': 0.996,...</td>\n      <td>[]</td>\n      <td>paramedical invoice</td>\n      <td>0.000</td>\n      <td>False</td>\n      <td>False</td>\n      <td>False</td>\n      <td>False</td>\n      <td>False</td>\n      <td>#16810-p01</td>\n      <td>48.75</td>\n      <td>False</td>\n      <td>False</td>\n      <td>False</td>\n    </tr>\n    <tr>\n      <th>17</th>\n      <td>OCS_files_Part_1_0050064385375_Step-_Element-_...</td>\n      <td>VOMOTION HEALTH AND WELLNESS Evomotion Health ...</td>\n      <td>{'VOMOTION': 0.995, 'HEALTH': 0.994, 'AND': 0....</td>\n      <td>[]</td>\n      <td>paramedical invoice</td>\n      <td>0.000</td>\n      <td>False</td>\n      <td>False</td>\n      <td>False</td>\n      <td>False</td>\n      <td>False</td>\n      <td>#205-po1</td>\n      <td>55</td>\n      <td>False</td>\n      <td>False</td>\n      <td>False</td>\n    </tr>\n    <tr>\n      <th>18</th>\n      <td>OCS_files_Part_1_0050064385381_Step-_Element-_...</td>\n      <td>BAYRIDGE COUNSFILING C-KIRIS A BAYRIDGE CIRCLE...</td>\n      <td>{'BAYRIDGE': 0.988, 'COUNSFILING': 0.206, 'C-K...</td>\n      <td>[]</td>\n      <td>paramedical invoice</td>\n      <td>0.000</td>\n      <td>False</td>\n      <td>False</td>\n      <td>False</td>\n      <td>False</td>\n      <td>False</td>\n      <td>False</td>\n      <td>293.8</td>\n      <td>False</td>\n      <td>False</td>\n      <td>False</td>\n    </tr>\n    <tr>\n      <th>19</th>\n      <td>OCS_files_Part_1_0050064385387_Step-_Element-_...</td>\n      <td>Dr. Bhavna Sharma Dentistry Professional Corp....</td>\n      <td>{'Dr.': 0.996, 'Bhavna': 0.996, 'Sharma': 0.99...</td>\n      <td>[]</td>\n      <td>other_receipt</td>\n      <td>0.000</td>\n      <td>False</td>\n      <td>False</td>\n      <td>False</td>\n      <td>False</td>\n      <td>False</td>\n      <td>False</td>\n      <td>240</td>\n      <td>False</td>\n      <td>False</td>\n      <td>False</td>\n    </tr>\n  </tbody>\n</table>\n</div>"
          },
          "metadata": {}
        }
      ],
      "execution_count": 38,
      "metadata": {
        "jupyter": {
          "source_hidden": false,
          "outputs_hidden": false
        },
        "nteract": {
          "transient": {
            "deleting": false
          }
        },
        "gather": {
          "logged": 1675183849054
        }
      }
    },
    {
      "cell_type": "code",
      "source": [
        "out_df[out_df['file_name'] == 'OCS_files_Part_1_0050064389898_Step-_Element-_04844a2b-ec90-4f41-98d9-c96fbe193ede_3784E25D-55A4-40E7-A990-8AA127D519D4.jpeg.jpg']"
      ],
      "outputs": [
        {
          "output_type": "execute_result",
          "execution_count": 47,
          "data": {
            "text/plain": "                                              file_name  \\\n1006  OCS_files_Part_1_0050064389898_Step-_Element-_...   \n\n                                                content  \\\n1006  COSTCO EOPTICAL INVOICE DATE / DATE DE FACTURE...   \n\n                                        word_confidence  \\\n1006  {'COSTCO': 0.996, 'EOPTICAL': 0.937, 'INVOICE'...   \n\n                                                 styles     page_label  \\\n1006  [DocumentStyle(is_handwritten=True, spans=[Doc...  other_receipt   \n\n      handwritten_percentage  has_stamp  paid_by_cash  no_dollar_symbol  \\\n1006                   0.001      False          True             False   \n\n      above_handwritten_threshold  invalid_invoice_nbr possible_invoice_nbr  \\\n1006                        False                False                False   \n\n     payment_amount  has_invalid_addr  verified_address register_num  \\\n1006            260              True             False        False   \n\n      payment_above_200  payment_above_400  payment_above_500  \n1006               True              False              False  ",
            "text/html": "<div>\n<style scoped>\n    .dataframe tbody tr th:only-of-type {\n        vertical-align: middle;\n    }\n\n    .dataframe tbody tr th {\n        vertical-align: top;\n    }\n\n    .dataframe thead th {\n        text-align: right;\n    }\n</style>\n<table border=\"1\" class=\"dataframe\">\n  <thead>\n    <tr style=\"text-align: right;\">\n      <th></th>\n      <th>file_name</th>\n      <th>content</th>\n      <th>word_confidence</th>\n      <th>styles</th>\n      <th>page_label</th>\n      <th>handwritten_percentage</th>\n      <th>has_stamp</th>\n      <th>paid_by_cash</th>\n      <th>no_dollar_symbol</th>\n      <th>above_handwritten_threshold</th>\n      <th>invalid_invoice_nbr</th>\n      <th>possible_invoice_nbr</th>\n      <th>payment_amount</th>\n      <th>has_invalid_addr</th>\n      <th>verified_address</th>\n      <th>register_num</th>\n      <th>payment_above_200</th>\n      <th>payment_above_400</th>\n      <th>payment_above_500</th>\n    </tr>\n  </thead>\n  <tbody>\n    <tr>\n      <th>1006</th>\n      <td>OCS_files_Part_1_0050064389898_Step-_Element-_...</td>\n      <td>COSTCO EOPTICAL INVOICE DATE / DATE DE FACTURE...</td>\n      <td>{'COSTCO': 0.996, 'EOPTICAL': 0.937, 'INVOICE'...</td>\n      <td>[DocumentStyle(is_handwritten=True, spans=[Doc...</td>\n      <td>other_receipt</td>\n      <td>0.001</td>\n      <td>False</td>\n      <td>True</td>\n      <td>False</td>\n      <td>False</td>\n      <td>False</td>\n      <td>False</td>\n      <td>260</td>\n      <td>True</td>\n      <td>False</td>\n      <td>False</td>\n      <td>True</td>\n      <td>False</td>\n      <td>False</td>\n    </tr>\n  </tbody>\n</table>\n</div>"
          },
          "metadata": {}
        }
      ],
      "execution_count": 47,
      "metadata": {
        "jupyter": {
          "source_hidden": false,
          "outputs_hidden": false
        },
        "nteract": {
          "transient": {
            "deleting": false
          }
        },
        "gather": {
          "logged": 1675184128803
        }
      }
    },
    {
      "cell_type": "code",
      "source": [
        "out_df['payment_above_200'] = np.where(out_df['payment_amount']>= 200, True, False)\r\n",
        "out_df['payment_above_400'] = np.where(out_df['payment_amount']>= 400, True, False)\r\n",
        "out_df['payment_above_500'] = np.where(out_df['payment_amount']>= 500, True, False)\r\n",
        "out_df.loc[out_df[\"handwritten_percentage\"] > 0.3 , \"has_invalid_addr\"] = False\r\n",
        "\r\n",
        "df_to_rank =out_df[['file_name','has_stamp','paid_by_cash','no_dollar_symbol','above_handwritten_threshold','invalid_invoice_nbr','has_invalid_addr','payment_above_200','payment_above_400','payment_above_500']]\r\n",
        "df_to_rank = df_to_rank.astype({'has_stamp': int, 'paid_by_cash': int, 'no_dollar_symbol':int,'above_handwritten_threshold':int,'invalid_invoice_nbr':int,'has_invalid_addr':int, 'payment_above_200':int, 'payment_above_400':int,'payment_above_500': int }) \r\n"
      ],
      "outputs": [],
      "execution_count": 16,
      "metadata": {
        "jupyter": {
          "source_hidden": false,
          "outputs_hidden": false
        },
        "nteract": {
          "transient": {
            "deleting": false
          }
        },
        "gather": {
          "logged": 1676398961038
        }
      }
    },
    {
      "cell_type": "code",
      "source": [
        "df_to_rank['paid_by_cash&payment_above'] = df_to_rank['paid_by_cash']*df_to_rank['payment_above_200']\r\n",
        "df_to_rank['has_stamp&payment_above'] = df_to_rank['has_stamp']*df_to_rank['payment_above_500']\r\n",
        "df_to_rank['no_dollar_symbol&payment_above'] = df_to_rank['no_dollar_symbol']*df_to_rank['payment_above_500']\r\n",
        "df_to_rank['above_handwritten_threshold&payment_above'] = df_to_rank['above_handwritten_threshold']*df_to_rank['payment_above_500']\r\n",
        "df_to_rank['invalid_invoice_nbr&payment_above'] = df_to_rank['invalid_invoice_nbr']*df_to_rank['payment_above_500']\r\n",
        "df_to_rank['has_invalid_addr&payment_above'] = df_to_rank['has_invalid_addr']*df_to_rank['payment_above_400']\r\n",
        "\r\n",
        "\r\n",
        "df_to_rank.loc[(df_to_rank['paid_by_cash&payment_above'] == 1), 'paid_by_cash'] = 0\r\n",
        "df_to_rank.loc[(df_to_rank['has_stamp&payment_above'] == 1), 'has_stamp'] = 0\r\n",
        "df_to_rank.loc[(df_to_rank['no_dollar_symbol&payment_above'] == 1), 'no_dollar_symbol'] = 0\r\n",
        "df_to_rank.loc[(df_to_rank['above_handwritten_threshold&payment_above'] == 1), 'above_handwritten_threshold'] = 0\r\n",
        "df_to_rank.loc[(df_to_rank['invalid_invoice_nbr&payment_above'] == 1), 'invalid_invoice_nbr'] = 0\r\n",
        "df_to_rank.loc[(df_to_rank['has_invalid_addr&payment_above'] == 1), 'has_invalid_addr'] = 0\r\n",
        "\r\n",
        "df_to_rank = df_to_rank.drop(columns=['payment_above_200','payment_above_400','payment_above_500'])\r\n",
        "\r\n",
        "df_to_rank.rename(columns = {'paid_by_cash': 'paid_by_cash&payment_below'}, inplace = True)  \r\n",
        "df_to_rank.rename(columns = {'has_stamp': 'has_stamp&payment_below'}, inplace = True)  \r\n",
        "df_to_rank.rename(columns = {'no_dollar_symbol': 'no_dollar_symbol&payment_below'}, inplace = True)  \r\n",
        "df_to_rank.rename(columns = {'above_handwritten_threshold': 'above_handwritten_threshold&payment_below'}, inplace = True)  \r\n",
        "df_to_rank.rename(columns = {'invalid_invoice_nbr': 'invalid_invoice_nbr&payment_below'}, inplace = True)  \r\n",
        "df_to_rank.rename(columns = {'has_invalid_addr': 'has_invalid_addr&payment_below'}, inplace = True)  "
      ],
      "outputs": [],
      "execution_count": 17,
      "metadata": {
        "jupyter": {
          "source_hidden": false,
          "outputs_hidden": false
        },
        "nteract": {
          "transient": {
            "deleting": false
          }
        },
        "gather": {
          "logged": 1676398964654
        }
      }
    },
    {
      "cell_type": "code",
      "source": [
        "df_to_rank.head(20)"
      ],
      "outputs": [
        {
          "output_type": "execute_result",
          "execution_count": 41,
          "data": {
            "text/plain": "                                            file_name  \\\n0   OCS_files_Part_1_0050064385309_Step-_Element-_...   \n1   OCS_files_Part_1_0050064385313_Step-_Element-_...   \n2   OCS_files_Part_1_0050064385313_Step-_Element-_...   \n3   OCS_files_Part_1_0050064385322_Step-_Element-_...   \n4   OCS_files_Part_1_0050064385323_Step-_Element-_...   \n5   OCS_files_Part_1_0050064385333_Step-_Element-_...   \n6   OCS_files_Part_1_0050064385335_Step-_Element-_...   \n7   OCS_files_Part_1_0050064385355_Step-_Element-_...   \n8   OCS_files_Part_1_0050064385360_Step-_Element-_...   \n9   OCS_files_Part_1_0050064385364_Step-_Element-_...   \n10  OCS_files_Part_1_0050064385366_Step-_Element-_...   \n11  OCS_files_Part_1_0050064385370_Step-_Element-_...   \n12  OCS_files_Part_1_0050064385373_Step-_Element-_...   \n13  OCS_files_Part_1_0050064385373_Step-_Element-_...   \n14  OCS_files_Part_1_0050064385373_Step-_Element-_...   \n15  OCS_files_Part_1_0050064385373_Step-_Element-_...   \n16  OCS_files_Part_1_0050064385373_Step-_Element-_...   \n17  OCS_files_Part_1_0050064385375_Step-_Element-_...   \n18  OCS_files_Part_1_0050064385381_Step-_Element-_...   \n19  OCS_files_Part_1_0050064385387_Step-_Element-_...   \n\n    has_stamp&payment_below  paid_by_cash&payment_below  \\\n0                         0                           0   \n1                         0                           0   \n2                         0                           0   \n3                         0                           0   \n4                         0                           0   \n5                         0                           0   \n6                         0                           0   \n7                         0                           0   \n8                         0                           0   \n9                         0                           0   \n10                        0                           0   \n11                        0                           0   \n12                        0                           0   \n13                        0                           0   \n14                        0                           0   \n15                        0                           0   \n16                        0                           0   \n17                        0                           0   \n18                        0                           0   \n19                        0                           0   \n\n    no_dollar_symbol&payment_below  above_handwritten_threshold&payment_below  \\\n0                                0                                          0   \n1                                0                                          0   \n2                                0                                          0   \n3                                0                                          0   \n4                                0                                          0   \n5                                0                                          0   \n6                                0                                          0   \n7                                0                                          0   \n8                                0                                          0   \n9                                0                                          0   \n10                               1                                          0   \n11                               0                                          0   \n12                               1                                          0   \n13                               0                                          0   \n14                               0                                          0   \n15                               0                                          0   \n16                               0                                          0   \n17                               0                                          0   \n18                               0                                          0   \n19                               0                                          0   \n\n    invalid_invoice_nbr&payment_below  has_invalid_addr&payment_below  \\\n0                                   0                               0   \n1                                   0                               0   \n2                                   0                               0   \n3                                   0                               1   \n4                                   0                               0   \n5                                   0                               0   \n6                                   0                               0   \n7                                   0                               0   \n8                                   0                               0   \n9                                   0                               0   \n10                                  0                               1   \n11                                  0                               0   \n12                                  0                               0   \n13                                  0                               0   \n14                                  0                               0   \n15                                  0                               0   \n16                                  0                               0   \n17                                  0                               0   \n18                                  0                               0   \n19                                  0                               0   \n\n    paid_by_cash&payment_above  has_stamp&payment_above  \\\n0                            0                        0   \n1                            0                        0   \n2                            0                        0   \n3                            0                        0   \n4                            0                        0   \n5                            0                        0   \n6                            0                        0   \n7                            0                        0   \n8                            0                        0   \n9                            0                        0   \n10                           0                        0   \n11                           0                        0   \n12                           0                        0   \n13                           0                        0   \n14                           0                        0   \n15                           0                        0   \n16                           0                        0   \n17                           0                        0   \n18                           0                        0   \n19                           0                        0   \n\n    no_dollar_symbol&payment_above  above_handwritten_threshold&payment_above  \\\n0                                0                                          0   \n1                                0                                          0   \n2                                0                                          0   \n3                                0                                          0   \n4                                0                                          0   \n5                                0                                          0   \n6                                0                                          0   \n7                                0                                          0   \n8                                0                                          0   \n9                                0                                          0   \n10                               0                                          0   \n11                               0                                          0   \n12                               0                                          0   \n13                               0                                          0   \n14                               0                                          0   \n15                               0                                          0   \n16                               0                                          0   \n17                               0                                          0   \n18                               0                                          0   \n19                               0                                          0   \n\n    invalid_invoice_nbr&payment_above  has_invalid_addr&payment_above  \n0                                   0                               0  \n1                                   0                               0  \n2                                   0                               0  \n3                                   0                               0  \n4                                   0                               0  \n5                                   0                               0  \n6                                   0                               0  \n7                                   0                               0  \n8                                   0                               0  \n9                                   0                               0  \n10                                  0                               0  \n11                                  0                               0  \n12                                  0                               0  \n13                                  0                               0  \n14                                  0                               0  \n15                                  0                               0  \n16                                  0                               0  \n17                                  0                               0  \n18                                  0                               0  \n19                                  0                               0  ",
            "text/html": "<div>\n<style scoped>\n    .dataframe tbody tr th:only-of-type {\n        vertical-align: middle;\n    }\n\n    .dataframe tbody tr th {\n        vertical-align: top;\n    }\n\n    .dataframe thead th {\n        text-align: right;\n    }\n</style>\n<table border=\"1\" class=\"dataframe\">\n  <thead>\n    <tr style=\"text-align: right;\">\n      <th></th>\n      <th>file_name</th>\n      <th>has_stamp&amp;payment_below</th>\n      <th>paid_by_cash&amp;payment_below</th>\n      <th>no_dollar_symbol&amp;payment_below</th>\n      <th>above_handwritten_threshold&amp;payment_below</th>\n      <th>invalid_invoice_nbr&amp;payment_below</th>\n      <th>has_invalid_addr&amp;payment_below</th>\n      <th>paid_by_cash&amp;payment_above</th>\n      <th>has_stamp&amp;payment_above</th>\n      <th>no_dollar_symbol&amp;payment_above</th>\n      <th>above_handwritten_threshold&amp;payment_above</th>\n      <th>invalid_invoice_nbr&amp;payment_above</th>\n      <th>has_invalid_addr&amp;payment_above</th>\n    </tr>\n  </thead>\n  <tbody>\n    <tr>\n      <th>0</th>\n      <td>OCS_files_Part_1_0050064385309_Step-_Element-_...</td>\n      <td>0</td>\n      <td>0</td>\n      <td>0</td>\n      <td>0</td>\n      <td>0</td>\n      <td>0</td>\n      <td>0</td>\n      <td>0</td>\n      <td>0</td>\n      <td>0</td>\n      <td>0</td>\n      <td>0</td>\n    </tr>\n    <tr>\n      <th>1</th>\n      <td>OCS_files_Part_1_0050064385313_Step-_Element-_...</td>\n      <td>0</td>\n      <td>0</td>\n      <td>0</td>\n      <td>0</td>\n      <td>0</td>\n      <td>0</td>\n      <td>0</td>\n      <td>0</td>\n      <td>0</td>\n      <td>0</td>\n      <td>0</td>\n      <td>0</td>\n    </tr>\n    <tr>\n      <th>2</th>\n      <td>OCS_files_Part_1_0050064385313_Step-_Element-_...</td>\n      <td>0</td>\n      <td>0</td>\n      <td>0</td>\n      <td>0</td>\n      <td>0</td>\n      <td>0</td>\n      <td>0</td>\n      <td>0</td>\n      <td>0</td>\n      <td>0</td>\n      <td>0</td>\n      <td>0</td>\n    </tr>\n    <tr>\n      <th>3</th>\n      <td>OCS_files_Part_1_0050064385322_Step-_Element-_...</td>\n      <td>0</td>\n      <td>0</td>\n      <td>0</td>\n      <td>0</td>\n      <td>0</td>\n      <td>1</td>\n      <td>0</td>\n      <td>0</td>\n      <td>0</td>\n      <td>0</td>\n      <td>0</td>\n      <td>0</td>\n    </tr>\n    <tr>\n      <th>4</th>\n      <td>OCS_files_Part_1_0050064385323_Step-_Element-_...</td>\n      <td>0</td>\n      <td>0</td>\n      <td>0</td>\n      <td>0</td>\n      <td>0</td>\n      <td>0</td>\n      <td>0</td>\n      <td>0</td>\n      <td>0</td>\n      <td>0</td>\n      <td>0</td>\n      <td>0</td>\n    </tr>\n    <tr>\n      <th>5</th>\n      <td>OCS_files_Part_1_0050064385333_Step-_Element-_...</td>\n      <td>0</td>\n      <td>0</td>\n      <td>0</td>\n      <td>0</td>\n      <td>0</td>\n      <td>0</td>\n      <td>0</td>\n      <td>0</td>\n      <td>0</td>\n      <td>0</td>\n      <td>0</td>\n      <td>0</td>\n    </tr>\n    <tr>\n      <th>6</th>\n      <td>OCS_files_Part_1_0050064385335_Step-_Element-_...</td>\n      <td>0</td>\n      <td>0</td>\n      <td>0</td>\n      <td>0</td>\n      <td>0</td>\n      <td>0</td>\n      <td>0</td>\n      <td>0</td>\n      <td>0</td>\n      <td>0</td>\n      <td>0</td>\n      <td>0</td>\n    </tr>\n    <tr>\n      <th>7</th>\n      <td>OCS_files_Part_1_0050064385355_Step-_Element-_...</td>\n      <td>0</td>\n      <td>0</td>\n      <td>0</td>\n      <td>0</td>\n      <td>0</td>\n      <td>0</td>\n      <td>0</td>\n      <td>0</td>\n      <td>0</td>\n      <td>0</td>\n      <td>0</td>\n      <td>0</td>\n    </tr>\n    <tr>\n      <th>8</th>\n      <td>OCS_files_Part_1_0050064385360_Step-_Element-_...</td>\n      <td>0</td>\n      <td>0</td>\n      <td>0</td>\n      <td>0</td>\n      <td>0</td>\n      <td>0</td>\n      <td>0</td>\n      <td>0</td>\n      <td>0</td>\n      <td>0</td>\n      <td>0</td>\n      <td>0</td>\n    </tr>\n    <tr>\n      <th>9</th>\n      <td>OCS_files_Part_1_0050064385364_Step-_Element-_...</td>\n      <td>0</td>\n      <td>0</td>\n      <td>0</td>\n      <td>0</td>\n      <td>0</td>\n      <td>0</td>\n      <td>0</td>\n      <td>0</td>\n      <td>0</td>\n      <td>0</td>\n      <td>0</td>\n      <td>0</td>\n    </tr>\n    <tr>\n      <th>10</th>\n      <td>OCS_files_Part_1_0050064385366_Step-_Element-_...</td>\n      <td>0</td>\n      <td>0</td>\n      <td>1</td>\n      <td>0</td>\n      <td>0</td>\n      <td>1</td>\n      <td>0</td>\n      <td>0</td>\n      <td>0</td>\n      <td>0</td>\n      <td>0</td>\n      <td>0</td>\n    </tr>\n    <tr>\n      <th>11</th>\n      <td>OCS_files_Part_1_0050064385370_Step-_Element-_...</td>\n      <td>0</td>\n      <td>0</td>\n      <td>0</td>\n      <td>0</td>\n      <td>0</td>\n      <td>0</td>\n      <td>0</td>\n      <td>0</td>\n      <td>0</td>\n      <td>0</td>\n      <td>0</td>\n      <td>0</td>\n    </tr>\n    <tr>\n      <th>12</th>\n      <td>OCS_files_Part_1_0050064385373_Step-_Element-_...</td>\n      <td>0</td>\n      <td>0</td>\n      <td>1</td>\n      <td>0</td>\n      <td>0</td>\n      <td>0</td>\n      <td>0</td>\n      <td>0</td>\n      <td>0</td>\n      <td>0</td>\n      <td>0</td>\n      <td>0</td>\n    </tr>\n    <tr>\n      <th>13</th>\n      <td>OCS_files_Part_1_0050064385373_Step-_Element-_...</td>\n      <td>0</td>\n      <td>0</td>\n      <td>0</td>\n      <td>0</td>\n      <td>0</td>\n      <td>0</td>\n      <td>0</td>\n      <td>0</td>\n      <td>0</td>\n      <td>0</td>\n      <td>0</td>\n      <td>0</td>\n    </tr>\n    <tr>\n      <th>14</th>\n      <td>OCS_files_Part_1_0050064385373_Step-_Element-_...</td>\n      <td>0</td>\n      <td>0</td>\n      <td>0</td>\n      <td>0</td>\n      <td>0</td>\n      <td>0</td>\n      <td>0</td>\n      <td>0</td>\n      <td>0</td>\n      <td>0</td>\n      <td>0</td>\n      <td>0</td>\n    </tr>\n    <tr>\n      <th>15</th>\n      <td>OCS_files_Part_1_0050064385373_Step-_Element-_...</td>\n      <td>0</td>\n      <td>0</td>\n      <td>0</td>\n      <td>0</td>\n      <td>0</td>\n      <td>0</td>\n      <td>0</td>\n      <td>0</td>\n      <td>0</td>\n      <td>0</td>\n      <td>0</td>\n      <td>0</td>\n    </tr>\n    <tr>\n      <th>16</th>\n      <td>OCS_files_Part_1_0050064385373_Step-_Element-_...</td>\n      <td>0</td>\n      <td>0</td>\n      <td>0</td>\n      <td>0</td>\n      <td>0</td>\n      <td>0</td>\n      <td>0</td>\n      <td>0</td>\n      <td>0</td>\n      <td>0</td>\n      <td>0</td>\n      <td>0</td>\n    </tr>\n    <tr>\n      <th>17</th>\n      <td>OCS_files_Part_1_0050064385375_Step-_Element-_...</td>\n      <td>0</td>\n      <td>0</td>\n      <td>0</td>\n      <td>0</td>\n      <td>0</td>\n      <td>0</td>\n      <td>0</td>\n      <td>0</td>\n      <td>0</td>\n      <td>0</td>\n      <td>0</td>\n      <td>0</td>\n    </tr>\n    <tr>\n      <th>18</th>\n      <td>OCS_files_Part_1_0050064385381_Step-_Element-_...</td>\n      <td>0</td>\n      <td>0</td>\n      <td>0</td>\n      <td>0</td>\n      <td>0</td>\n      <td>0</td>\n      <td>0</td>\n      <td>0</td>\n      <td>0</td>\n      <td>0</td>\n      <td>0</td>\n      <td>0</td>\n    </tr>\n    <tr>\n      <th>19</th>\n      <td>OCS_files_Part_1_0050064385387_Step-_Element-_...</td>\n      <td>0</td>\n      <td>0</td>\n      <td>0</td>\n      <td>0</td>\n      <td>0</td>\n      <td>0</td>\n      <td>0</td>\n      <td>0</td>\n      <td>0</td>\n      <td>0</td>\n      <td>0</td>\n      <td>0</td>\n    </tr>\n  </tbody>\n</table>\n</div>"
          },
          "metadata": {}
        }
      ],
      "execution_count": 41,
      "metadata": {
        "jupyter": {
          "source_hidden": false,
          "outputs_hidden": false
        },
        "nteract": {
          "transient": {
            "deleting": false
          }
        },
        "gather": {
          "logged": 1675183849691
        }
      }
    },
    {
      "cell_type": "code",
      "source": [
        "df_to_rank[(df_to_rank['has_invalid_addr']==1) & (df_to_rank['no_dollar_symbol']==1) &(df_to_rank['above_handwritten_threshold']==0)&(df_to_rank['paid_by_cash&payment_below']==0)&(df_to_rank['paid_by_cash&payment_above']==0)].count()"
      ],
      "outputs": [
        {
          "output_type": "execute_result",
          "execution_count": 25,
          "data": {
            "text/plain": "file_name                      154\nhas_stamp                      154\npaid_by_cash&payment_below     154\nno_dollar_symbol               154\nabove_handwritten_threshold    154\ninvalid_invoice_nbr            154\nhas_invalid_addr               154\npaid_by_cash&payment_above     154\ndtype: int64"
          },
          "metadata": {}
        }
      ],
      "execution_count": 25,
      "metadata": {
        "jupyter": {
          "source_hidden": false,
          "outputs_hidden": false
        },
        "nteract": {
          "transient": {
            "deleting": false
          }
        },
        "gather": {
          "logged": 1669921299773
        }
      }
    },
    {
      "cell_type": "code",
      "source": [
        "df_to_rank.count()"
      ],
      "outputs": [
        {
          "output_type": "execute_result",
          "execution_count": 27,
          "data": {
            "text/plain": "file_name                                    4615\nhas_stamp&payment_below                      4615\npaid_by_cash&payment_below                   4615\nno_dollar_symbol&payment_below               4615\nabove_handwritten_threshold&payment_below    4615\ninvalid_invoice_nbr&payment_below            4615\nhas_invalid_addr&payment_below               4615\npaid_by_cash&payment_above                   4615\nhas_stamp&payment_above                      4615\nno_dollar_symbol&payment_above               4615\nabove_handwritten_threshold&payment_above    4615\ninvalid_invoice_nbr&payment_above            4615\nhas_invalid_addr&payment_above               4615\ndtype: int64"
          },
          "metadata": {}
        }
      ],
      "execution_count": 27,
      "metadata": {
        "jupyter": {
          "source_hidden": false,
          "outputs_hidden": false
        },
        "nteract": {
          "transient": {
            "deleting": false
          }
        },
        "gather": {
          "logged": 1675183049983
        }
      }
    },
    {
      "cell_type": "code",
      "source": [
        "weights = [0.0475,0.095,0.005,0.06,0.025,0.0175,0.38,0.19,0.02,0.24, 0.1, 0.07]"
      ],
      "outputs": [],
      "execution_count": 18,
      "metadata": {
        "jupyter": {
          "source_hidden": false,
          "outputs_hidden": false
        },
        "nteract": {
          "transient": {
            "deleting": false
          }
        },
        "gather": {
          "logged": 1676398977632
        }
      }
    },
    {
      "cell_type": "code",
      "source": [
        "score = df_to_rank.drop(columns=['file_name']).mul(weights).sum(axis=1)"
      ],
      "outputs": [],
      "execution_count": 19,
      "metadata": {
        "jupyter": {
          "source_hidden": false,
          "outputs_hidden": false
        },
        "nteract": {
          "transient": {
            "deleting": false
          }
        },
        "gather": {
          "logged": 1676398979529
        }
      }
    },
    {
      "cell_type": "code",
      "source": [
        "top_1 = score.quantile(0.99)\r\n",
        "top_5 = score.quantile(0.95)"
      ],
      "outputs": [],
      "execution_count": 20,
      "metadata": {
        "jupyter": {
          "source_hidden": false,
          "outputs_hidden": false
        },
        "nteract": {
          "transient": {
            "deleting": false
          }
        },
        "gather": {
          "logged": 1676398980160
        }
      }
    },
    {
      "cell_type": "code",
      "source": [
        "df_to_rank['risk_score'] = score"
      ],
      "outputs": [],
      "execution_count": 21,
      "metadata": {
        "jupyter": {
          "source_hidden": false,
          "outputs_hidden": false
        },
        "nteract": {
          "transient": {
            "deleting": false
          }
        },
        "gather": {
          "logged": 1676398983786
        }
      }
    },
    {
      "cell_type": "code",
      "source": [
        "df_to_rank['risk_level'] = 'Not Suspicious'\r\n",
        "df_to_rank.loc[df_to_rank.risk_score>=top_5,'risk_level'] = 'Should Investigate'\r\n",
        "df_to_rank.loc[df_to_rank.risk_score>=top_1,'risk_level'] = 'Must Investigate'"
      ],
      "outputs": [],
      "execution_count": 22,
      "metadata": {
        "jupyter": {
          "source_hidden": false,
          "outputs_hidden": false
        },
        "nteract": {
          "transient": {
            "deleting": false
          }
        },
        "gather": {
          "logged": 1676398984261
        }
      }
    },
    {
      "cell_type": "code",
      "source": [
        "df_to_rank.sort_values(by=['risk_score'], ascending = False).to_csv('OCS__risk_score_02102023.csv')"
      ],
      "outputs": [],
      "execution_count": 23,
      "metadata": {
        "jupyter": {
          "source_hidden": false,
          "outputs_hidden": false
        },
        "nteract": {
          "transient": {
            "deleting": false
          }
        },
        "gather": {
          "logged": 1676399004471
        }
      }
    },
    {
      "cell_type": "code",
      "source": [
        "df_to_rank.sort_values(by=['risk_score'], ascending = False).head()"
      ],
      "outputs": [
        {
          "output_type": "execute_result",
          "execution_count": 34,
          "data": {
            "text/plain": "                                              file_name  \\\n1006  OCS_files_Part_1_0050064389898_Step-_Element-_...   \n677   OCS_files_Part_1_0050064388320_Step-_Element-_...   \n2869  OCS_files_Part_2_0050064380696_Step-_Element-_...   \n1047  OCS_files_Part_1_0050064390260_Step-_Element-_...   \n1091  OCS_files_Part_1_0050064390448_Step-_Element-_...   \n\n      has_stamp&payment_below  paid_by_cash&payment_below  \\\n1006                        0                           1   \n677                         0                           1   \n2869                        0                           1   \n1047                        0                           1   \n1091                        0                           1   \n\n      no_dollar_symbol&payment_below  \\\n1006                               0   \n677                                1   \n2869                               0   \n1047                               0   \n1091                               0   \n\n      above_handwritten_threshold&payment_below  \\\n1006                                          0   \n677                                           0   \n2869                                          0   \n1047                                          0   \n1091                                          0   \n\n      invalid_invoice_nbr&payment_below  has_invalid_addr&payment_below  \\\n1006                                  0                               1   \n677                                   0                               0   \n2869                                  0                               0   \n1047                                  0                               0   \n1091                                  0                               0   \n\n      paid_by_cash&payment_above  has_stamp&payment_above  \\\n1006                           1                        0   \n677                            1                        0   \n2869                           1                        0   \n1047                           1                        0   \n1091                           1                        0   \n\n      no_dollar_symbol&payment_above  \\\n1006                               0   \n677                                0   \n2869                               0   \n1047                               0   \n1091                               0   \n\n      above_handwritten_threshold&payment_above  \\\n1006                                          0   \n677                                           0   \n2869                                          0   \n1047                                          0   \n1091                                          0   \n\n      invalid_invoice_nbr&payment_above  has_invalid_addr&payment_above  \\\n1006                                  0                               0   \n677                                   0                               0   \n2869                                  0                               0   \n1047                                  0                               0   \n1091                                  0                               0   \n\n      risk_score        risk_level  \n1006      0.4925  Must Investigate  \n677       0.4800  Must Investigate  \n2869      0.4750  Must Investigate  \n1047      0.4750  Must Investigate  \n1091      0.4750  Must Investigate  ",
            "text/html": "<div>\n<style scoped>\n    .dataframe tbody tr th:only-of-type {\n        vertical-align: middle;\n    }\n\n    .dataframe tbody tr th {\n        vertical-align: top;\n    }\n\n    .dataframe thead th {\n        text-align: right;\n    }\n</style>\n<table border=\"1\" class=\"dataframe\">\n  <thead>\n    <tr style=\"text-align: right;\">\n      <th></th>\n      <th>file_name</th>\n      <th>has_stamp&amp;payment_below</th>\n      <th>paid_by_cash&amp;payment_below</th>\n      <th>no_dollar_symbol&amp;payment_below</th>\n      <th>above_handwritten_threshold&amp;payment_below</th>\n      <th>invalid_invoice_nbr&amp;payment_below</th>\n      <th>has_invalid_addr&amp;payment_below</th>\n      <th>paid_by_cash&amp;payment_above</th>\n      <th>has_stamp&amp;payment_above</th>\n      <th>no_dollar_symbol&amp;payment_above</th>\n      <th>above_handwritten_threshold&amp;payment_above</th>\n      <th>invalid_invoice_nbr&amp;payment_above</th>\n      <th>has_invalid_addr&amp;payment_above</th>\n      <th>risk_score</th>\n      <th>risk_level</th>\n    </tr>\n  </thead>\n  <tbody>\n    <tr>\n      <th>1006</th>\n      <td>OCS_files_Part_1_0050064389898_Step-_Element-_...</td>\n      <td>0</td>\n      <td>1</td>\n      <td>0</td>\n      <td>0</td>\n      <td>0</td>\n      <td>1</td>\n      <td>1</td>\n      <td>0</td>\n      <td>0</td>\n      <td>0</td>\n      <td>0</td>\n      <td>0</td>\n      <td>0.4925</td>\n      <td>Must Investigate</td>\n    </tr>\n    <tr>\n      <th>677</th>\n      <td>OCS_files_Part_1_0050064388320_Step-_Element-_...</td>\n      <td>0</td>\n      <td>1</td>\n      <td>1</td>\n      <td>0</td>\n      <td>0</td>\n      <td>0</td>\n      <td>1</td>\n      <td>0</td>\n      <td>0</td>\n      <td>0</td>\n      <td>0</td>\n      <td>0</td>\n      <td>0.4800</td>\n      <td>Must Investigate</td>\n    </tr>\n    <tr>\n      <th>2869</th>\n      <td>OCS_files_Part_2_0050064380696_Step-_Element-_...</td>\n      <td>0</td>\n      <td>1</td>\n      <td>0</td>\n      <td>0</td>\n      <td>0</td>\n      <td>0</td>\n      <td>1</td>\n      <td>0</td>\n      <td>0</td>\n      <td>0</td>\n      <td>0</td>\n      <td>0</td>\n      <td>0.4750</td>\n      <td>Must Investigate</td>\n    </tr>\n    <tr>\n      <th>1047</th>\n      <td>OCS_files_Part_1_0050064390260_Step-_Element-_...</td>\n      <td>0</td>\n      <td>1</td>\n      <td>0</td>\n      <td>0</td>\n      <td>0</td>\n      <td>0</td>\n      <td>1</td>\n      <td>0</td>\n      <td>0</td>\n      <td>0</td>\n      <td>0</td>\n      <td>0</td>\n      <td>0.4750</td>\n      <td>Must Investigate</td>\n    </tr>\n    <tr>\n      <th>1091</th>\n      <td>OCS_files_Part_1_0050064390448_Step-_Element-_...</td>\n      <td>0</td>\n      <td>1</td>\n      <td>0</td>\n      <td>0</td>\n      <td>0</td>\n      <td>0</td>\n      <td>1</td>\n      <td>0</td>\n      <td>0</td>\n      <td>0</td>\n      <td>0</td>\n      <td>0</td>\n      <td>0.4750</td>\n      <td>Must Investigate</td>\n    </tr>\n  </tbody>\n</table>\n</div>"
          },
          "metadata": {}
        }
      ],
      "execution_count": 34,
      "metadata": {
        "jupyter": {
          "source_hidden": false,
          "outputs_hidden": false
        },
        "nteract": {
          "transient": {
            "deleting": false
          }
        },
        "gather": {
          "logged": 1675183484961
        }
      }
    },
    {
      "cell_type": "code",
      "source": [
        "df_to_rank.drop(columns=['file_name','risk_score','risk_level']).sum(axis=1)"
      ],
      "outputs": [],
      "execution_count": null,
      "metadata": {
        "jupyter": {
          "source_hidden": false,
          "outputs_hidden": false
        },
        "nteract": {
          "transient": {
            "deleting": false
          }
        }
      }
    },
    {
      "cell_type": "code",
      "source": [
        "df = df_to_rank.iloc[:,1:-2]\r\n",
        "df[df.sum(axis=1) >= 3].count()"
      ],
      "outputs": [
        {
          "output_type": "execute_result",
          "execution_count": 36,
          "data": {
            "text/plain": "has_stamp                      6\npaid_by_cash&payment_below     6\nno_dollar_symbol               6\nabove_handwritten_threshold    6\ninvalid_invoice_nbr            6\nhas_invalid_addr               6\npaid_by_cash&payment_above     6\ndtype: int64"
          },
          "metadata": {}
        }
      ],
      "execution_count": 36,
      "metadata": {
        "jupyter": {
          "source_hidden": false,
          "outputs_hidden": false
        },
        "nteract": {
          "transient": {
            "deleting": false
          }
        },
        "gather": {
          "logged": 1669923201304
        }
      }
    },
    {
      "cell_type": "code",
      "source": [
        "df_to_rank[df_to_rank['risk_score']>0].count()"
      ],
      "outputs": [
        {
          "output_type": "execute_result",
          "execution_count": 36,
          "data": {
            "text/plain": "file_name                                    1525\nhas_stamp&payment_below                      1525\npaid_by_cash&payment_below                   1525\nno_dollar_symbol&payment_below               1525\nabove_handwritten_threshold&payment_below    1525\ninvalid_invoice_nbr&payment_below            1525\nhas_invalid_addr&payment_below               1525\npaid_by_cash&payment_above                   1525\nhas_stamp&payment_above                      1525\nno_dollar_symbol&payment_above               1525\nabove_handwritten_threshold&payment_above    1525\ninvalid_invoice_nbr&payment_above            1525\nhas_invalid_addr&payment_above               1525\nrisk_score                                   1525\nrisk_level                                   1525\ndtype: int64"
          },
          "metadata": {}
        }
      ],
      "execution_count": 36,
      "metadata": {
        "jupyter": {
          "source_hidden": false,
          "outputs_hidden": false
        },
        "nteract": {
          "transient": {
            "deleting": false
          }
        },
        "gather": {
          "logged": 1675183610089
        }
      }
    },
    {
      "cell_type": "code",
      "source": [
        "df_to_rank.iloc[4871]"
      ],
      "outputs": [
        {
          "output_type": "execute_result",
          "execution_count": 27,
          "data": {
            "text/plain": "file_name                      01000001-122512_01910.tif\nhas_stamp                                              0\npaid_by_cash&payment_below                             0\nno_dollar_symbol                                       1\nabove_handwritten_threshold                            1\ninvalid_invoice_nbr                                    0\nhas_invalid_addr                                       1\npaid_by_cash&payment_above                             0\nrisk_score                                          0.33\nrisk_level                              Must Investigate\nName: 4871, dtype: object"
          },
          "metadata": {}
        }
      ],
      "execution_count": 27,
      "metadata": {
        "jupyter": {
          "source_hidden": false,
          "outputs_hidden": false
        },
        "nteract": {
          "transient": {
            "deleting": false
          }
        },
        "gather": {
          "logged": 1666808497862
        }
      }
    },
    {
      "cell_type": "code",
      "source": [
        "df_to_rank[df_to_rank['risk_level']=='Should Investigate'].count()"
      ],
      "outputs": [
        {
          "output_type": "execute_result",
          "execution_count": 35,
          "data": {
            "text/plain": "file_name                      285\nhas_stamp                      285\npaid_by_cash&payment_below     285\nno_dollar_symbol               285\nabove_handwritten_threshold    285\ninvalid_invoice_nbr            285\nhas_invalid_addr               285\npaid_by_cash&payment_above     285\nrisk_score                     285\nrisk_level                     285\ndtype: int64"
          },
          "metadata": {}
        }
      ],
      "execution_count": 35,
      "metadata": {
        "jupyter": {
          "source_hidden": false,
          "outputs_hidden": false
        },
        "nteract": {
          "transient": {
            "deleting": false
          }
        },
        "gather": {
          "logged": 1666803767558
        }
      }
    },
    {
      "cell_type": "code",
      "source": [
        "df_to_rank[df_to_rank['invalid_invoice_nbr']==1].count()"
      ],
      "outputs": [
        {
          "output_type": "execute_result",
          "execution_count": 33,
          "data": {
            "text/plain": "file_name                      25\nhas_stamp                      25\npaid_by_cash&payment_below     25\nno_dollar_symbol               25\nabove_handwritten_threshold    25\ninvalid_invoice_nbr            25\nhas_invalid_addr               25\npaid_by_cash&payment_above     25\nrisk_score                     25\nrisk_level                     25\ndtype: int64"
          },
          "metadata": {}
        }
      ],
      "execution_count": 33,
      "metadata": {
        "jupyter": {
          "source_hidden": false,
          "outputs_hidden": false
        },
        "nteract": {
          "transient": {
            "deleting": false
          }
        },
        "gather": {
          "logged": 1666715306485
        }
      }
    },
    {
      "cell_type": "code",
      "source": [
        "out_df = pd.DataFrame()\r\n",
        "for files in os.listdir(local_output_path):\r\n",
        "    doc_text_path = local_output_path+files\r\n",
        "    if doc_text_path.endswith('csv'):\r\n",
        "        print(doc_text_path)\r\n",
        "        df = pd.read_csv(doc_text_path)\r\n",
        "        for row in df.iterrows():\r\n",
        "            text =str(row[1]['content']).lower()\r\n",
        "            # print(text)\r\n",
        "            if text.find('the physio spot') >-1:\r\n",
        "                out_df = out_df.append(row[1], ignore_index = True)\r\n"
      ],
      "outputs": [
        {
          "output_type": "stream",
          "name": "stdout",
          "text": "output/Sept-2-2022_03000000-74657.csv\noutput/Sept-2-2022_03000001-081718.csv\noutput/Sept-2-2022_03000002-085127.csv\noutput/Sept-2-2022_03000006-111049.csv\noutput/Sept-2-2022_03000007-115700.csv\noutput/Sept-2-2022_03000008-120727.csv\noutput/Sept-20-2022_08000017-144934.csv\noutput/Sept-22-2022_08000000-75523.csv\noutput/Sept-22-2022_08000001-093417.csv\noutput/Sept-22-2022_08000002-103118.csv\noutput/Sept-22-2022_08000003-114545.csv\noutput/Sept-22-2022_08000005-133859.csv\noutput/Sept-22-2022_08000006-142703.csv\noutput/Sept-22-2022_08000007-145026.csv\noutput/Sept-22-2022_10000002-175400.csv\noutput/Sept-22-2022_10000003-180426.csv\noutput/Sept-26-2022_08000008-151315.csv\noutput/Sept-26-2022_08000009-154500.csv\noutput/Sept-27-2022_08000000-082728.csv\noutput/Sept-28-2022_08000000- 84023.csv\noutput/Sept-28-2022_08000001-090633.csv\noutput/Sept-28-2022_08000002-095510.csv\noutput/Sept-28-2022_08000003-112143.csv\noutput/Sept-28-2022_08000004-113154.csv\noutput/Sept-28-2022_08000005-120521.csv\noutput/Sept-28-2022_08000006-125626.csv\noutput/Sept-28-2022_08000007-133831.csv\noutput/Sept-28-2022_08000008-144926.csv\noutput/Sept-28-2022_08000009-152659.csv\noutput/Sept-29-2022_08000000-082245.csv\noutput/Sept-29-2022_08000001- 95430.csv\noutput/Sept-29-2022_08000002-101333.csv\noutput/Sept-29-2022_08000003-111816.csv\noutput/Sept-29-2022_08000005-125936.csv\noutput/Sept-29-2022_08000006-133625.csv\noutput/Sept-29-2022_08000007-144629.csv\noutput/Sept-29-2022_08000008-151718.csv\noutput/Sept-29-2022_08000009-155247.csv\noutput/Sept-29-2022_08000051-111816.csv\noutput/Sept-6-2022_01000000-114047.csv\noutput/Sept-6-2022_01000001-122512.csv\noutput/Sept-6-2022_01000002-131153.csv\noutput/Sept-6-2022_01000003-135705.csv\noutput/Sept-6-2022_01000004-144436.csv\noutput/Sept-6-2022_01000005-152003.csv\noutput/Sept-7-2022_01000009-212537.csv\noutput/Sept-7-2022_01000010-215702.csv\noutput/Sept-7-2022_01000011-223533.csv\noutput/Sept-8-2022_08000001-152701.csv\noutput/Sept-8-2022_08000002-154548.csv\noutput/Sept-8-2022_08000004-164245.csv\noutput/Sept-8-2022_08000005-172546.csv\noutput/Sept-8-2022_08000006-174051.csv\noutput/Sept-9-2022_01000001-204321.csv\noutput/Sept-9-2022_01000004-164831.csv\noutput/Sept-9-2022_01000006-182427.csv\noutput/Sept-9-2022_01000007-184649.csv\noutput/Sept-9-2022_01000008-192820.csv\n"
        }
      ],
      "execution_count": 13,
      "metadata": {
        "jupyter": {
          "source_hidden": false,
          "outputs_hidden": false
        },
        "nteract": {
          "transient": {
            "deleting": false
          }
        },
        "gather": {
          "logged": 1667330741985
        }
      }
    },
    {
      "cell_type": "code",
      "source": [
        "df_to_rank.sort_values(by=['risk_score'], ascending = False)"
      ],
      "outputs": [
        {
          "output_type": "execute_result",
          "execution_count": 25,
          "data": {
            "text/plain": "                                  file_name  has_stamp  \\\n496   Oct-22-2022_10000004-132939_00570.tif          1   \n526   Oct-22-2022_10000004-132939_01460.tif          0   \n733   Oct-22-2022_10000007-123725_00720.tif          0   \n114   Oct-19-2022_08000006-160654_02580.tif          0   \n1098  Oct-24-2022_08000003-113921_01370.tif          0   \n...                                     ...        ...   \n779   Oct-22-2022_10000007-123725_01810.tif          0   \n780   Oct-22-2022_10000007-123725_01820.tif          0   \n781   Oct-22-2022_10000007-123725_01830.tif          0   \n782   Oct-22-2022_10000007-123725_01840.tif          0   \n1530  Oct-24-2022_08000008-164302_02700.tif          0   \n\n      paid_by_cash&payment_below  no_dollar_symbol  \\\n496                            0                 0   \n526                            0                 0   \n733                            0                 0   \n114                            0                 1   \n1098                           0                 1   \n...                          ...               ...   \n779                            0                 0   \n780                            0                 0   \n781                            0                 0   \n782                            0                 0   \n1530                           0                 0   \n\n      above_handwritten_threshold  invalid_invoice_nbr  has_invalid_addr  \\\n496                             1                    0                 1   \n526                             0                    0                 0   \n733                             0                    0                 0   \n114                             1                    0                 1   \n1098                            1                    0                 1   \n...                           ...                  ...               ...   \n779                             0                    0                 0   \n780                             0                    0                 0   \n781                             0                    0                 0   \n782                             0                    0                 0   \n1530                            0                    0                 0   \n\n      paid_by_cash&payment_above  risk_score        risk_level  \n496                            0        0.50  Must Investigate  \n526                            1        0.38  Must Investigate  \n733                            1        0.38  Must Investigate  \n114                            0        0.33  Must Investigate  \n1098                           0        0.33  Must Investigate  \n...                          ...         ...               ...  \n779                            0        0.00    Not Suspicious  \n780                            0        0.00    Not Suspicious  \n781                            0        0.00    Not Suspicious  \n782                            0        0.00    Not Suspicious  \n1530                           0        0.00    Not Suspicious  \n\n[1531 rows x 10 columns]",
            "text/html": "<div>\n<style scoped>\n    .dataframe tbody tr th:only-of-type {\n        vertical-align: middle;\n    }\n\n    .dataframe tbody tr th {\n        vertical-align: top;\n    }\n\n    .dataframe thead th {\n        text-align: right;\n    }\n</style>\n<table border=\"1\" class=\"dataframe\">\n  <thead>\n    <tr style=\"text-align: right;\">\n      <th></th>\n      <th>file_name</th>\n      <th>has_stamp</th>\n      <th>paid_by_cash&amp;payment_below</th>\n      <th>no_dollar_symbol</th>\n      <th>above_handwritten_threshold</th>\n      <th>invalid_invoice_nbr</th>\n      <th>has_invalid_addr</th>\n      <th>paid_by_cash&amp;payment_above</th>\n      <th>risk_score</th>\n      <th>risk_level</th>\n    </tr>\n  </thead>\n  <tbody>\n    <tr>\n      <th>496</th>\n      <td>Oct-22-2022_10000004-132939_00570.tif</td>\n      <td>1</td>\n      <td>0</td>\n      <td>0</td>\n      <td>1</td>\n      <td>0</td>\n      <td>1</td>\n      <td>0</td>\n      <td>0.50</td>\n      <td>Must Investigate</td>\n    </tr>\n    <tr>\n      <th>526</th>\n      <td>Oct-22-2022_10000004-132939_01460.tif</td>\n      <td>0</td>\n      <td>0</td>\n      <td>0</td>\n      <td>0</td>\n      <td>0</td>\n      <td>0</td>\n      <td>1</td>\n      <td>0.38</td>\n      <td>Must Investigate</td>\n    </tr>\n    <tr>\n      <th>733</th>\n      <td>Oct-22-2022_10000007-123725_00720.tif</td>\n      <td>0</td>\n      <td>0</td>\n      <td>0</td>\n      <td>0</td>\n      <td>0</td>\n      <td>0</td>\n      <td>1</td>\n      <td>0.38</td>\n      <td>Must Investigate</td>\n    </tr>\n    <tr>\n      <th>114</th>\n      <td>Oct-19-2022_08000006-160654_02580.tif</td>\n      <td>0</td>\n      <td>0</td>\n      <td>1</td>\n      <td>1</td>\n      <td>0</td>\n      <td>1</td>\n      <td>0</td>\n      <td>0.33</td>\n      <td>Must Investigate</td>\n    </tr>\n    <tr>\n      <th>1098</th>\n      <td>Oct-24-2022_08000003-113921_01370.tif</td>\n      <td>0</td>\n      <td>0</td>\n      <td>1</td>\n      <td>1</td>\n      <td>0</td>\n      <td>1</td>\n      <td>0</td>\n      <td>0.33</td>\n      <td>Must Investigate</td>\n    </tr>\n    <tr>\n      <th>...</th>\n      <td>...</td>\n      <td>...</td>\n      <td>...</td>\n      <td>...</td>\n      <td>...</td>\n      <td>...</td>\n      <td>...</td>\n      <td>...</td>\n      <td>...</td>\n      <td>...</td>\n    </tr>\n    <tr>\n      <th>779</th>\n      <td>Oct-22-2022_10000007-123725_01810.tif</td>\n      <td>0</td>\n      <td>0</td>\n      <td>0</td>\n      <td>0</td>\n      <td>0</td>\n      <td>0</td>\n      <td>0</td>\n      <td>0.00</td>\n      <td>Not Suspicious</td>\n    </tr>\n    <tr>\n      <th>780</th>\n      <td>Oct-22-2022_10000007-123725_01820.tif</td>\n      <td>0</td>\n      <td>0</td>\n      <td>0</td>\n      <td>0</td>\n      <td>0</td>\n      <td>0</td>\n      <td>0</td>\n      <td>0.00</td>\n      <td>Not Suspicious</td>\n    </tr>\n    <tr>\n      <th>781</th>\n      <td>Oct-22-2022_10000007-123725_01830.tif</td>\n      <td>0</td>\n      <td>0</td>\n      <td>0</td>\n      <td>0</td>\n      <td>0</td>\n      <td>0</td>\n      <td>0</td>\n      <td>0.00</td>\n      <td>Not Suspicious</td>\n    </tr>\n    <tr>\n      <th>782</th>\n      <td>Oct-22-2022_10000007-123725_01840.tif</td>\n      <td>0</td>\n      <td>0</td>\n      <td>0</td>\n      <td>0</td>\n      <td>0</td>\n      <td>0</td>\n      <td>0</td>\n      <td>0.00</td>\n      <td>Not Suspicious</td>\n    </tr>\n    <tr>\n      <th>1530</th>\n      <td>Oct-24-2022_08000008-164302_02700.tif</td>\n      <td>0</td>\n      <td>0</td>\n      <td>0</td>\n      <td>0</td>\n      <td>0</td>\n      <td>0</td>\n      <td>0</td>\n      <td>0.00</td>\n      <td>Not Suspicious</td>\n    </tr>\n  </tbody>\n</table>\n<p>1531 rows × 10 columns</p>\n</div>"
          },
          "metadata": {}
        }
      ],
      "execution_count": 25,
      "metadata": {
        "jupyter": {
          "source_hidden": false,
          "outputs_hidden": false
        },
        "nteract": {
          "transient": {
            "deleting": false
          }
        },
        "gather": {
          "logged": 1668534801932
        }
      }
    },
    {
      "cell_type": "code",
      "source": [],
      "outputs": [],
      "execution_count": null,
      "metadata": {
        "jupyter": {
          "source_hidden": false,
          "outputs_hidden": false
        },
        "nteract": {
          "transient": {
            "deleting": false
          }
        }
      }
    }
  ],
  "metadata": {
    "kernelspec": {
      "name": "python38-azureml",
      "language": "python",
      "display_name": "Python 3.8 - AzureML"
    },
    "language_info": {
      "name": "python",
      "version": "3.8.5",
      "mimetype": "text/x-python",
      "codemirror_mode": {
        "name": "ipython",
        "version": 3
      },
      "pygments_lexer": "ipython3",
      "nbconvert_exporter": "python",
      "file_extension": ".py"
    },
    "kernel_info": {
      "name": "python38-azureml"
    },
    "microsoft": {
      "host": {
        "AzureML": {
          "notebookHasBeenCompleted": true
        }
      },
      "ms_spell_check": {
        "ms_spell_check_language": "en"
      }
    },
    "nteract": {
      "version": "nteract-front-end@1.0.0"
    }
  },
  "nbformat": 4,
  "nbformat_minor": 2
}