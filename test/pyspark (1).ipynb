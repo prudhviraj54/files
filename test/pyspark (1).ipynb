{
  "nbformat": 4,
  "nbformat_minor": 0,
  "metadata": {
    "colab": {
      "provenance": []
    },
    "kernelspec": {
      "name": "python3",
      "display_name": "Python 3"
    },
    "language_info": {
      "name": "python"
    }
  },
  "cells": [
    {
      "cell_type": "code",
      "source": [
        "import pandas as pd\n",
        "data = {\"file_name\":[\"test1.jpg\",\"test2.jpg\",\"test3.jpg\"],\n",
        "              \"content\":[\"Payment made to cashier in $2000.00\", \"Transaction was done using cash invoice#' 12390\",\"Used debit card for payment in costco\"],\n",
        "           \"page_label\":[\"para\",\"mil\",\"bil\"]}\n",
        "read_res = pd.DataFrame(data)"
      ],
      "metadata": {
        "id": "gFQ77SxFAR0e"
      },
      "execution_count": null,
      "outputs": []
    },
    {
      "cell_type": "code",
      "source": [
        "for ind in read_res.index:\n",
        "  print(ind)"
      ],
      "metadata": {
        "colab": {
          "base_uri": "https://localhost:8080/"
        },
        "id": "2G8tOZHF9Ndn",
        "outputId": "835b217d-17a4-4a8f-c5aa-e475910a58d3"
      },
      "execution_count": null,
      "outputs": [
        {
          "output_type": "stream",
          "name": "stdout",
          "text": [
            "0\n",
            "1\n",
            "2\n"
          ]
        }
      ]
    },
    {
      "cell_type": "code",
      "source": [
        "read_res['file_name'][0]"
      ],
      "metadata": {
        "colab": {
          "base_uri": "https://localhost:8080/",
          "height": 35
        },
        "id": "FOmbBv4a97H1",
        "outputId": "6706cdac-7a41-47e3-e2e8-99a9126656ab"
      },
      "execution_count": null,
      "outputs": [
        {
          "output_type": "execute_result",
          "data": {
            "text/plain": [
              "'test1.jpg'"
            ],
            "application/vnd.google.colaboratory.intrinsic+json": {
              "type": "string"
            }
          },
          "metadata": {},
          "execution_count": 3
        }
      ]
    },
    {
      "cell_type": "code",
      "source": [
        "files_list = ['file1.txt', 'test2.jpg', 'test3.jpg']"
      ],
      "metadata": {
        "id": "UCzXOm9WgfTb"
      },
      "execution_count": null,
      "outputs": []
    },
    {
      "cell_type": "code",
      "source": [
        "read_res"
      ],
      "metadata": {
        "colab": {
          "base_uri": "https://localhost:8080/",
          "height": 143
        },
        "id": "su7q6wHbbpw-",
        "outputId": "7d7726e9-7a8e-4109-9c69-95ff3b8dddef"
      },
      "execution_count": null,
      "outputs": [
        {
          "output_type": "execute_result",
          "data": {
            "text/plain": [
              "   file_name                                          content page_label\n",
              "0  test1.jpg              Payment made to cashier in $2000.00       para\n",
              "1  test2.jpg  Transaction was done using cash invoice#' 12390        mil\n",
              "2  test3.jpg            Used debit card for payment in costco        bil"
            ],
            "text/html": [
              "\n",
              "  <div id=\"df-c2b5be7b-b82c-470d-a623-793507f4f4ee\">\n",
              "    <div class=\"colab-df-container\">\n",
              "      <div>\n",
              "<style scoped>\n",
              "    .dataframe tbody tr th:only-of-type {\n",
              "        vertical-align: middle;\n",
              "    }\n",
              "\n",
              "    .dataframe tbody tr th {\n",
              "        vertical-align: top;\n",
              "    }\n",
              "\n",
              "    .dataframe thead th {\n",
              "        text-align: right;\n",
              "    }\n",
              "</style>\n",
              "<table border=\"1\" class=\"dataframe\">\n",
              "  <thead>\n",
              "    <tr style=\"text-align: right;\">\n",
              "      <th></th>\n",
              "      <th>file_name</th>\n",
              "      <th>content</th>\n",
              "      <th>page_label</th>\n",
              "    </tr>\n",
              "  </thead>\n",
              "  <tbody>\n",
              "    <tr>\n",
              "      <th>0</th>\n",
              "      <td>test1.jpg</td>\n",
              "      <td>Payment made to cashier in $2000.00</td>\n",
              "      <td>para</td>\n",
              "    </tr>\n",
              "    <tr>\n",
              "      <th>1</th>\n",
              "      <td>test2.jpg</td>\n",
              "      <td>Transaction was done using cash invoice#' 12390</td>\n",
              "      <td>mil</td>\n",
              "    </tr>\n",
              "    <tr>\n",
              "      <th>2</th>\n",
              "      <td>test3.jpg</td>\n",
              "      <td>Used debit card for payment in costco</td>\n",
              "      <td>bil</td>\n",
              "    </tr>\n",
              "  </tbody>\n",
              "</table>\n",
              "</div>\n",
              "      <button class=\"colab-df-convert\" onclick=\"convertToInteractive('df-c2b5be7b-b82c-470d-a623-793507f4f4ee')\"\n",
              "              title=\"Convert this dataframe to an interactive table.\"\n",
              "              style=\"display:none;\">\n",
              "        \n",
              "  <svg xmlns=\"http://www.w3.org/2000/svg\" height=\"24px\"viewBox=\"0 0 24 24\"\n",
              "       width=\"24px\">\n",
              "    <path d=\"M0 0h24v24H0V0z\" fill=\"none\"/>\n",
              "    <path d=\"M18.56 5.44l.94 2.06.94-2.06 2.06-.94-2.06-.94-.94-2.06-.94 2.06-2.06.94zm-11 1L8.5 8.5l.94-2.06 2.06-.94-2.06-.94L8.5 2.5l-.94 2.06-2.06.94zm10 10l.94 2.06.94-2.06 2.06-.94-2.06-.94-.94-2.06-.94 2.06-2.06.94z\"/><path d=\"M17.41 7.96l-1.37-1.37c-.4-.4-.92-.59-1.43-.59-.52 0-1.04.2-1.43.59L10.3 9.45l-7.72 7.72c-.78.78-.78 2.05 0 2.83L4 21.41c.39.39.9.59 1.41.59.51 0 1.02-.2 1.41-.59l7.78-7.78 2.81-2.81c.8-.78.8-2.07 0-2.86zM5.41 20L4 18.59l7.72-7.72 1.47 1.35L5.41 20z\"/>\n",
              "  </svg>\n",
              "      </button>\n",
              "      \n",
              "  <style>\n",
              "    .colab-df-container {\n",
              "      display:flex;\n",
              "      flex-wrap:wrap;\n",
              "      gap: 12px;\n",
              "    }\n",
              "\n",
              "    .colab-df-convert {\n",
              "      background-color: #E8F0FE;\n",
              "      border: none;\n",
              "      border-radius: 50%;\n",
              "      cursor: pointer;\n",
              "      display: none;\n",
              "      fill: #1967D2;\n",
              "      height: 32px;\n",
              "      padding: 0 0 0 0;\n",
              "      width: 32px;\n",
              "    }\n",
              "\n",
              "    .colab-df-convert:hover {\n",
              "      background-color: #E2EBFA;\n",
              "      box-shadow: 0px 1px 2px rgba(60, 64, 67, 0.3), 0px 1px 3px 1px rgba(60, 64, 67, 0.15);\n",
              "      fill: #174EA6;\n",
              "    }\n",
              "\n",
              "    [theme=dark] .colab-df-convert {\n",
              "      background-color: #3B4455;\n",
              "      fill: #D2E3FC;\n",
              "    }\n",
              "\n",
              "    [theme=dark] .colab-df-convert:hover {\n",
              "      background-color: #434B5C;\n",
              "      box-shadow: 0px 1px 3px 1px rgba(0, 0, 0, 0.15);\n",
              "      filter: drop-shadow(0px 1px 2px rgba(0, 0, 0, 0.3));\n",
              "      fill: #FFFFFF;\n",
              "    }\n",
              "  </style>\n",
              "\n",
              "      <script>\n",
              "        const buttonEl =\n",
              "          document.querySelector('#df-c2b5be7b-b82c-470d-a623-793507f4f4ee button.colab-df-convert');\n",
              "        buttonEl.style.display =\n",
              "          google.colab.kernel.accessAllowed ? 'block' : 'none';\n",
              "\n",
              "        async function convertToInteractive(key) {\n",
              "          const element = document.querySelector('#df-c2b5be7b-b82c-470d-a623-793507f4f4ee');\n",
              "          const dataTable =\n",
              "            await google.colab.kernel.invokeFunction('convertToInteractive',\n",
              "                                                     [key], {});\n",
              "          if (!dataTable) return;\n",
              "\n",
              "          const docLinkHtml = 'Like what you see? Visit the ' +\n",
              "            '<a target=\"_blank\" href=https://colab.research.google.com/notebooks/data_table.ipynb>data table notebook</a>'\n",
              "            + ' to learn more about interactive tables.';\n",
              "          element.innerHTML = '';\n",
              "          dataTable['output_type'] = 'display_data';\n",
              "          await google.colab.output.renderOutput(dataTable, element);\n",
              "          const docLink = document.createElement('div');\n",
              "          docLink.innerHTML = docLinkHtml;\n",
              "          element.appendChild(docLink);\n",
              "        }\n",
              "      </script>\n",
              "    </div>\n",
              "  </div>\n",
              "  "
            ]
          },
          "metadata": {},
          "execution_count": 109
        }
      ]
    },
    {
      "cell_type": "code",
      "source": [
        "def _if_repeat_num(segment:str):\n",
        "        regex = '([1-9]+)\\\\1\\\\1\\\\1+'\n",
        "        search_res = re.search(regex, segment)\n",
        "        return True if search_res else False\n",
        "\n",
        "def _if_single_num(segment:str):\n",
        "    return True if segment.isnumeric() and len(segment)==1 else False\n",
        "\n",
        "def _if_consecutive_num(segment:str):\n",
        "    # Get all 2 or more consecutive Numbers\n",
        "    lstNumbers = re.findall(r'\\d{4}', segment)\n",
        "    # Sort and convert list to Set to avoid duplicates\n",
        "    setValues = set(sorted(lstNumbers))\n",
        "    lstValues = list(setValues)\n",
        "    for num in lstValues:\n",
        "        if (str(num) in '0123456789'):\n",
        "            return True\n",
        "\n",
        "    return False"
      ],
      "metadata": {
        "id": "RhXCKpK3YGUB"
      },
      "execution_count": null,
      "outputs": []
    },
    {
      "cell_type": "code",
      "source": [
        "def invoice_num_check(read_res):\n",
        "        read_res['invalid_invoice_nbr'] = False\n",
        "        read_res['possible_invoice_nbr'] = None\n",
        "        invoice_num_keywords = ['invoice number', 'invoice #', 'invoice num', 'invoice#']\n",
        "        for row in read_res.iterrows():\n",
        "            # print(row[1]['file_name'])\n",
        "            # locate keyword 'invoice'\n",
        "            text = row[1]['content'].lower()\n",
        "            start = 0\n",
        "\n",
        "            for keyword in invoice_num_keywords:\n",
        "                idx = text.find(keyword)\n",
        "                print(idx)\n",
        "                if idx == -1:\n",
        "                  print(\"I am in\")\n",
        "                  continue\n",
        "                print(\"continue\")\n",
        "                potential_invoice_num = text[idx: idx+25] if idx+25 < len(text) else text[idx:]\n",
        "                print(\"entered\")\n",
        "                print(potential_invoice_num)\n",
        "                start = idx+1\n",
        "                # print(potential_invoice_num)\n",
        "                if potential_invoice_num.find('date')>-1:\n",
        "                    potential_invoice_num = potential_invoice_num[:potential_invoice_num.find('date')]\n",
        "\n",
        "                print(potential_invoice_num)\n",
        "                text_list = potential_invoice_num.split(' ')\n",
        "                print(text_list)\n",
        "                for segment in text_list:\n",
        "                    if any(c.isdigit() for c in segment):\n",
        "                        if  _if_single_num(segment):\n",
        "                            # print('suspicious single invoice number: ' + segment)\n",
        "                            read_res.loc[row[0], 'invalid_invoice_nbr'] = True\n",
        "                            read_res.loc[row[0], 'possible_invoice_nbr'] = segment\n",
        "                            break\n",
        "                        elif _if_repeat_num(segment):\n",
        "                            # print('suspicious repeat invoice number: ' + segment)\n",
        "                            read_res.loc[row[0], 'invalid_invoice_nbr'] = True\n",
        "                            read_res.loc[row[0], 'possible_invoice_nbr'] = segment\n",
        "                            break\n",
        "                        elif _if_consecutive_num(segment):\n",
        "                            # print('suspicious consecutive invoice number: ' + segment)\n",
        "                            read_res.loc[row[0], 'invalid_invoice_nbr'] = True\n",
        "                            read_res.loc[row[0], 'possible_invoice_nbr'] = segment\n",
        "                            break\n",
        "                        else:\n",
        "                            read_res.loc[row[0], 'possible_invoice_nbr'] = segment\n",
        "                            break\n",
        "        return read_res\n",
        "res = invoice_num_check(read_res)\n",
        "res"
      ],
      "metadata": {
        "colab": {
          "base_uri": "https://localhost:8080/",
          "height": 630
        },
        "id": "pTWoCVsMXmsB",
        "outputId": "a1a137ba-0d23-49f0-fbd7-991642b5b419"
      },
      "execution_count": null,
      "outputs": [
        {
          "output_type": "stream",
          "name": "stdout",
          "text": [
            "-1\n",
            "I am in\n",
            "-1\n",
            "I am in\n",
            "-1\n",
            "I am in\n",
            "-1\n",
            "I am in\n",
            "-1\n",
            "I am in\n",
            "-1\n",
            "I am in\n",
            "-1\n",
            "I am in\n",
            "32\n",
            "continue\n",
            "entered\n",
            "invoice#' 12390\n",
            "invoice#' 12390\n",
            "[\"invoice#'\", '12390']\n",
            "-1\n",
            "I am in\n",
            "-1\n",
            "I am in\n",
            "-1\n",
            "I am in\n",
            "-1\n",
            "I am in\n"
          ]
        },
        {
          "output_type": "execute_result",
          "data": {
            "text/plain": [
              "   file_name                                          content page_label  \\\n",
              "0  test1.jpg              Payment made to cashier in $2000.00       para   \n",
              "1  test2.jpg  Transaction was done using cash invoice#' 12390        mil   \n",
              "2  test3.jpg            Used debit card for payment in costco        bil   \n",
              "\n",
              "   invalid_invoice_nbr possible_invoice_nbr  \n",
              "0                False                 None  \n",
              "1                False                12390  \n",
              "2                False                 None  "
            ],
            "text/html": [
              "\n",
              "  <div id=\"df-da312f10-1e3e-4a84-aeab-7b1a1d1be4ed\">\n",
              "    <div class=\"colab-df-container\">\n",
              "      <div>\n",
              "<style scoped>\n",
              "    .dataframe tbody tr th:only-of-type {\n",
              "        vertical-align: middle;\n",
              "    }\n",
              "\n",
              "    .dataframe tbody tr th {\n",
              "        vertical-align: top;\n",
              "    }\n",
              "\n",
              "    .dataframe thead th {\n",
              "        text-align: right;\n",
              "    }\n",
              "</style>\n",
              "<table border=\"1\" class=\"dataframe\">\n",
              "  <thead>\n",
              "    <tr style=\"text-align: right;\">\n",
              "      <th></th>\n",
              "      <th>file_name</th>\n",
              "      <th>content</th>\n",
              "      <th>page_label</th>\n",
              "      <th>invalid_invoice_nbr</th>\n",
              "      <th>possible_invoice_nbr</th>\n",
              "    </tr>\n",
              "  </thead>\n",
              "  <tbody>\n",
              "    <tr>\n",
              "      <th>0</th>\n",
              "      <td>test1.jpg</td>\n",
              "      <td>Payment made to cashier in $2000.00</td>\n",
              "      <td>para</td>\n",
              "      <td>False</td>\n",
              "      <td>None</td>\n",
              "    </tr>\n",
              "    <tr>\n",
              "      <th>1</th>\n",
              "      <td>test2.jpg</td>\n",
              "      <td>Transaction was done using cash invoice#' 12390</td>\n",
              "      <td>mil</td>\n",
              "      <td>False</td>\n",
              "      <td>12390</td>\n",
              "    </tr>\n",
              "    <tr>\n",
              "      <th>2</th>\n",
              "      <td>test3.jpg</td>\n",
              "      <td>Used debit card for payment in costco</td>\n",
              "      <td>bil</td>\n",
              "      <td>False</td>\n",
              "      <td>None</td>\n",
              "    </tr>\n",
              "  </tbody>\n",
              "</table>\n",
              "</div>\n",
              "      <button class=\"colab-df-convert\" onclick=\"convertToInteractive('df-da312f10-1e3e-4a84-aeab-7b1a1d1be4ed')\"\n",
              "              title=\"Convert this dataframe to an interactive table.\"\n",
              "              style=\"display:none;\">\n",
              "        \n",
              "  <svg xmlns=\"http://www.w3.org/2000/svg\" height=\"24px\"viewBox=\"0 0 24 24\"\n",
              "       width=\"24px\">\n",
              "    <path d=\"M0 0h24v24H0V0z\" fill=\"none\"/>\n",
              "    <path d=\"M18.56 5.44l.94 2.06.94-2.06 2.06-.94-2.06-.94-.94-2.06-.94 2.06-2.06.94zm-11 1L8.5 8.5l.94-2.06 2.06-.94-2.06-.94L8.5 2.5l-.94 2.06-2.06.94zm10 10l.94 2.06.94-2.06 2.06-.94-2.06-.94-.94-2.06-.94 2.06-2.06.94z\"/><path d=\"M17.41 7.96l-1.37-1.37c-.4-.4-.92-.59-1.43-.59-.52 0-1.04.2-1.43.59L10.3 9.45l-7.72 7.72c-.78.78-.78 2.05 0 2.83L4 21.41c.39.39.9.59 1.41.59.51 0 1.02-.2 1.41-.59l7.78-7.78 2.81-2.81c.8-.78.8-2.07 0-2.86zM5.41 20L4 18.59l7.72-7.72 1.47 1.35L5.41 20z\"/>\n",
              "  </svg>\n",
              "      </button>\n",
              "      \n",
              "  <style>\n",
              "    .colab-df-container {\n",
              "      display:flex;\n",
              "      flex-wrap:wrap;\n",
              "      gap: 12px;\n",
              "    }\n",
              "\n",
              "    .colab-df-convert {\n",
              "      background-color: #E8F0FE;\n",
              "      border: none;\n",
              "      border-radius: 50%;\n",
              "      cursor: pointer;\n",
              "      display: none;\n",
              "      fill: #1967D2;\n",
              "      height: 32px;\n",
              "      padding: 0 0 0 0;\n",
              "      width: 32px;\n",
              "    }\n",
              "\n",
              "    .colab-df-convert:hover {\n",
              "      background-color: #E2EBFA;\n",
              "      box-shadow: 0px 1px 2px rgba(60, 64, 67, 0.3), 0px 1px 3px 1px rgba(60, 64, 67, 0.15);\n",
              "      fill: #174EA6;\n",
              "    }\n",
              "\n",
              "    [theme=dark] .colab-df-convert {\n",
              "      background-color: #3B4455;\n",
              "      fill: #D2E3FC;\n",
              "    }\n",
              "\n",
              "    [theme=dark] .colab-df-convert:hover {\n",
              "      background-color: #434B5C;\n",
              "      box-shadow: 0px 1px 3px 1px rgba(0, 0, 0, 0.15);\n",
              "      filter: drop-shadow(0px 1px 2px rgba(0, 0, 0, 0.3));\n",
              "      fill: #FFFFFF;\n",
              "    }\n",
              "  </style>\n",
              "\n",
              "      <script>\n",
              "        const buttonEl =\n",
              "          document.querySelector('#df-da312f10-1e3e-4a84-aeab-7b1a1d1be4ed button.colab-df-convert');\n",
              "        buttonEl.style.display =\n",
              "          google.colab.kernel.accessAllowed ? 'block' : 'none';\n",
              "\n",
              "        async function convertToInteractive(key) {\n",
              "          const element = document.querySelector('#df-da312f10-1e3e-4a84-aeab-7b1a1d1be4ed');\n",
              "          const dataTable =\n",
              "            await google.colab.kernel.invokeFunction('convertToInteractive',\n",
              "                                                     [key], {});\n",
              "          if (!dataTable) return;\n",
              "\n",
              "          const docLinkHtml = 'Like what you see? Visit the ' +\n",
              "            '<a target=\"_blank\" href=https://colab.research.google.com/notebooks/data_table.ipynb>data table notebook</a>'\n",
              "            + ' to learn more about interactive tables.';\n",
              "          element.innerHTML = '';\n",
              "          dataTable['output_type'] = 'display_data';\n",
              "          await google.colab.output.renderOutput(dataTable, element);\n",
              "          const docLink = document.createElement('div');\n",
              "          docLink.innerHTML = docLinkHtml;\n",
              "          element.appendChild(docLink);\n",
              "        }\n",
              "      </script>\n",
              "    </div>\n",
              "  </div>\n",
              "  "
            ]
          },
          "metadata": {},
          "execution_count": 110
        }
      ]
    },
    {
      "cell_type": "code",
      "source": [
        "!pip install pyspark"
      ],
      "metadata": {
        "id": "HmgqNCIphXOv",
        "colab": {
          "base_uri": "https://localhost:8080/"
        },
        "outputId": "cb650c6d-de8c-4966-b1b7-b413ee68dad9"
      },
      "execution_count": null,
      "outputs": [
        {
          "output_type": "stream",
          "name": "stdout",
          "text": [
            "Looking in indexes: https://pypi.org/simple, https://us-python.pkg.dev/colab-wheels/public/simple/\n",
            "Collecting pyspark\n",
            "  Downloading pyspark-3.4.0.tar.gz (310.8 MB)\n",
            "\u001b[2K     \u001b[90m━━━━━━━━━━━━━━━━━━━━━━━━━━━━━━━━━━━━━━━\u001b[0m \u001b[32m310.8/310.8 MB\u001b[0m \u001b[31m4.9 MB/s\u001b[0m eta \u001b[36m0:00:00\u001b[0m\n",
            "\u001b[?25h  Preparing metadata (setup.py) ... \u001b[?25l\u001b[?25hdone\n",
            "Requirement already satisfied: py4j==0.10.9.7 in /usr/local/lib/python3.10/dist-packages (from pyspark) (0.10.9.7)\n",
            "Building wheels for collected packages: pyspark\n",
            "  Building wheel for pyspark (setup.py) ... \u001b[?25l\u001b[?25hdone\n",
            "  Created wheel for pyspark: filename=pyspark-3.4.0-py2.py3-none-any.whl size=311317130 sha256=e00b25ccab121aeee0755a4876fc7dae8035b87bc23f701478a603c9b119cc25\n",
            "  Stored in directory: /root/.cache/pip/wheels/7b/1b/4b/3363a1d04368e7ff0d408e57ff57966fcdf00583774e761327\n",
            "Successfully built pyspark\n",
            "Installing collected packages: pyspark\n",
            "Successfully installed pyspark-3.4.0\n"
          ]
        }
      ]
    },
    {
      "cell_type": "code",
      "execution_count": null,
      "metadata": {
        "id": "8bm417qI2S0l"
      },
      "outputs": [],
      "source": [
        "from pyspark.sql import SparkSession\n",
        "from pyspark.sql.functions import lit,udf\n",
        "from pyspark.sql import SparkSession\n",
        "from pyspark.sql.functions import udf\n",
        "from pyspark.sql.types import BooleanType, StringType, FloatType,DoubleType\n",
        "from pyspark.sql import functions as F\n",
        "from pyspark.sql.functions import udf, col, expr, lower, split, udf\n",
        "from pyspark.sql.functions import col, lower\n",
        "import re\n",
        "sc = SparkSession.builder.appName('example_spark').getOrCreate()"
      ]
    },
    {
      "cell_type": "code",
      "source": [
        "# creating a dataframe\n",
        "data = [\n",
        "    (\"test1.jpg\", \"Payment made to cashier with cash of 2000.00 invoice num 36241\", \"para\",30.32),\n",
        "    (\"test2.jpg\", \"Transaction was done using cash in costco invoice#12534\", \"mil\",10.2),\n",
        "    (\"test3.jpg\",\"User with register no: 58290 used debit card for payment\",\"bil\",27.9)\n",
        "]\n",
        "headers = (\"file_name\", \"content\", \"page_label\",\"hand\")\n",
        "df = sc.createDataFrame(data, headers)"
      ],
      "metadata": {
        "id": "AEIQ1q1L27n5"
      },
      "execution_count": null,
      "outputs": []
    },
    {
      "cell_type": "markdown",
      "source": [
        "# paid_by_cash"
      ],
      "metadata": {
        "id": "-GfP4Ma7EclX"
      }
    },
    {
      "cell_type": "code",
      "source": [
        "def paid_by_cash(read_res):\n",
        "  cash_payment_invoice = []\n",
        "  keywords = ['cash']\n",
        "  payment_keywords = ['cash', 'money order', 'credit', 'visa', 'amex', 'debit', 'cheque', 'charge', 'mc', 'db', 'check', 'credit card', 'refund', 'roa', 'grant', 'master', 'cq']\n",
        "\n",
        "  read_res = read_res.withColumn(\"paid_by_cash\", lower(col(\"content\")).contains(\"cash\") & ~(lower(col(\"content\")).contains(\"cashier\")))\n",
        "\n",
        "  #read_res = read_res.withColumn(\"pay_method\", sum([col(\"content\").contains(payment) for payment in payment_keywords]))\n",
        "  #read_res = read_res.withColumn(\"paid_by_cash\", col(\"paid_by_cash\") & (col(\"pay_method\") < 2))\n",
        "  #read_res = read_res.drop(\"pay_method\")\n",
        "\n",
        "  return read_res"
      ],
      "metadata": {
        "id": "5GlTWpbOEbaM"
      },
      "execution_count": null,
      "outputs": []
    },
    {
      "cell_type": "markdown",
      "source": [
        "# has_dollar_symbol"
      ],
      "metadata": {
        "id": "IZAlwYBTEfGk"
      }
    },
    {
      "cell_type": "code",
      "source": [
        "def has_dollar_symbol(self, read_res):\n",
        "  def check_no_dollar_symbol(content):\n",
        "      return '$' not in content\n",
        "\n",
        "  check_no_dollar_symbol_udf = udf(check_no_dollar_symbol, BooleanType())\n",
        "  read_res = read_res.withColumn('no_dollar_symbol', check_no_dollar_symbol_udf('content'))\n",
        "\n",
        "  return read_res"
      ],
      "metadata": {
        "id": "efQnNrXiEhu0"
      },
      "execution_count": null,
      "outputs": []
    },
    {
      "cell_type": "markdown",
      "source": [
        "# handwritten_check"
      ],
      "metadata": {
        "id": "dGIBFeSjEoyG"
      }
    },
    {
      "cell_type": "code",
      "source": [
        "def handwritten_check(read_res, threshold):\n",
        "\t\tread_res = read_res.withColumn('above_handwritten_threshold', F.lit(False))\n",
        "\t\t#check_threshold = F.udf(lambda percentage: percentage > threshold, returnType=BooleanType())\n",
        "\t\tdef check_threshold(hand,threshold):\n",
        "\t\t  return hand>threshold\n",
        "\t\t#check_threshold = F.udf(lambda percentage: int(percentage > threshold), returnType=IntegerType())\n",
        "\t\t#read_res = read_res.withColumn('hand', read_res['hand'].cast('float'))\n",
        "\t\tread_res = read_res.withColumn('above_handwritten_threshold', check_threshold(read_res['hand'],threshold))\n",
        "\t\treturn read_res"
      ],
      "metadata": {
        "id": "bn8CqQzMEpOz"
      },
      "execution_count": null,
      "outputs": []
    },
    {
      "cell_type": "markdown",
      "source": [
        "# get_payment"
      ],
      "metadata": {
        "id": "XAPEQLoDFAiV"
      }
    },
    {
      "cell_type": "code",
      "source": [
        "def get_payment(read_res):\n",
        "\t\tdef extract_amount(text):\n",
        "\t\t\tpotential_amount = re.findall(r'[$][\\d{1,3},?]*\\d{1,3}\\.\\d{2}', text)\n",
        "\t\t\tif potential_amount:\n",
        "\t\t\t\tamount_list = [float(i[1:].replace(\",\", \"\")) for i in potential_amount]\n",
        "\t\t\t\treturn max(amount_list)\n",
        "\t\t\tpotential_amount_2 = re.findall(r'[\\d{1,3},?]*\\d{1,3}\\.\\d{2}', text)\n",
        "\t\t\tif potential_amount_2:\n",
        "\t\t\t\tamount_list = [float(i.replace(\",\", \"\")) for i in potential_amount_2]\n",
        "\t\t\t\treturn max(amount_list)\n",
        "\t\t\treturn None\n",
        "\n",
        "\t\textract_amount_udf = F.udf(extract_amount, DoubleType())\n",
        "\t\tread_res = read_res.withColumn('content', F.lower(F.col('content')))\n",
        "\t\tread_res = read_res.withColumn('payment_amount', extract_amount_udf(F.col('content')))\n",
        "\t\treturn read_res"
      ],
      "metadata": {
        "id": "jxZr7wXgFA8x"
      },
      "execution_count": null,
      "outputs": []
    },
    {
      "cell_type": "markdown",
      "source": [
        "# get_reg_num"
      ],
      "metadata": {
        "id": "YBPrqgPMFHvi"
      }
    },
    {
      "cell_type": "code",
      "source": [
        "def get_reg_num(read_res):\n",
        "        read_res = read_res.withColumn(\"register_num\", lit(None))\n",
        "        invoice_num_keywords = ['phn/reg', 'reg#', 'reg #', 'register#', 'register #', 'register number', 'reg no', 'register no']\n",
        "        Reg = \"No Register Num\"\n",
        "        def extract_register_num(text):\n",
        "            text = text.lower()\n",
        "            text = text.replace('.', ' ')\n",
        "            text = text.replace(',', ' ')\n",
        "            text = text.replace(':', ' ')\n",
        "\n",
        "            for keyword in invoice_num_keywords:\n",
        "                idx = text.find(keyword)\n",
        "                if idx == -1:\n",
        "                    continue\n",
        "                potential_invoice_num = text[idx: idx+25] if idx+25 < len(text) else text[idx:]\n",
        "\n",
        "                text_list = potential_invoice_num.split(' ')\n",
        "                for segment in text_list:\n",
        "                    if any(c.isdigit() for c in segment):\n",
        "                        segment = segment.replace('#', '')\n",
        "                        segment = segment.replace(' ', '')\n",
        "                        return segment\n",
        "            return Reg\n",
        "        extract_register_num_udf = udf(extract_register_num, StringType())\n",
        "\n",
        "        read_res = read_res.withColumn(\"register_num\", extract_register_num_udf(col(\"content\")))\n",
        "\n",
        "        return read_res"
      ],
      "metadata": {
        "id": "crZqot7SFHQa"
      },
      "execution_count": null,
      "outputs": []
    },
    {
      "cell_type": "markdown",
      "source": [
        "#  repeat num"
      ],
      "metadata": {
        "id": "WFGMxh4EFdaJ"
      }
    },
    {
      "cell_type": "code",
      "source": [
        "def if_repeat_num(segment):\n",
        "        regex = r'([1-9]+)\\1\\1\\1+'\n",
        "        search_res = re.search(regex,segment)\n",
        "        return True if search_res else False\n",
        "\n",
        "#if_repeat_num_udf = udf(if_repeat_num, BooleanType())\n",
        "#df7 = df.withColumn(\"has_rpeat_num\",if_repeat_num_udf(col(\"segment\")) )\n",
        "#df7.show()\n",
        "\n",
        "def if_single_num(segment):\n",
        "  if segment.isnumeric() and len(segment)==1:\n",
        "    return True\n",
        "  else:\n",
        "    return False\n",
        "  #return True if segment.isnumeric() and len(segment)==1 else False\n",
        "    #df8 = df.withColumn(\"Singlet_num\",_if_single_num(col(\"segment\")) )\n",
        "    #df8.show()\n",
        "\n",
        "def if_consecutive_num(segment):\n",
        "        # Get all 2 or more consecutive Numbers\n",
        "        lstNumbers = re.findall(r'\\d{4}', segment)\n",
        "        # Sort and convert list to Set to avoid duplicates\n",
        "        setValues = set(sorted(lstNumbers))\n",
        "        lstValues = list(setValues)\n",
        "        for num in lstValues:\n",
        "            if (str(num) in '0123456789'):\n",
        "                return True\n",
        "\n",
        "        return False"
      ],
      "metadata": {
        "id": "knJuOJ0NFb7h"
      },
      "execution_count": null,
      "outputs": []
    },
    {
      "cell_type": "markdown",
      "source": [
        "# invoice_num_check"
      ],
      "metadata": {
        "id": "BZbVOK4lFOyh"
      }
    },
    {
      "cell_type": "code",
      "source": [
        "# def invoice_num_check(read_res):\n",
        "#         invalid_invoice_nbr_udf = udf(lambda segment: if_single_num(segment) or if_repeat_num(segment) or if_consecutive_num(segment), BooleanType())\n",
        "#         possible_invoice_nbr_udf = udf(lambda segment: segment if (if_single_num(segment) or if_repeat_num(segment) or if_consecutive_num(segment)) else None, StringType())\n",
        "\n",
        "#         invoice_num_keywords = ['invoice number', 'invoice #', 'invoice num', 'invoice#']\n",
        "#         read_res = read_res.withColumn('invalid_invoice_nbr', col('invalid_invoice_nbr').cast(BooleanType()))\n",
        "#         read_res = read_res.withColumn('possible_invoice_nbr', col('possible_invoice_nbr').cast(StringType()))\n",
        "\n",
        "#         for keyword in invoice_num_keywords:\n",
        "#             read_res = read_res.withColumn('idx', col('content').lower().indexOf(keyword))\n",
        "#             read_res = read_res.withColumn('idx', col('idx') + 1)\n",
        "#             read_res = read_res.withColumn('potential_invoice_num', col('content').substr(col('idx'), 25))\n",
        "#             read_res = read_res.withColumn('potential_invoice_num', col('potential_invoice_num').substr(1, expr(\"IF(instr(potential_invoice_num, 'date') > 0, instr(potential_invoice_num, 'date')-1, length(potential_invoice_num))\")))\n",
        "\n",
        "#             read_res = read_res.withColumn('text_list', expr(\"split(potential_invoice_num, ' ')\"))\n",
        "#             read_res = read_res.withColumn('possible_invoice_nbr', expr(\"transform(text_list, segment -> IF(REGEXP_REPLACE(segment, '\\\\D', '') != '', IF({0}, segment, NULL), NULL))\".format(invalid_invoice_nbr_udf)))\n",
        "\n",
        "#             read_res = read_res.withColumn('invalid_invoice_nbr', col('invalid_invoice_nbr') | col('possible_invoice_nbr').isNotNull())\n",
        "#             read_res = read_res.withColumn('possible_invoice_nbr', expr(\"filter(possible_invoice_nbr, segment -> segment IS NOT NULL)[0]\"))\n",
        "\n",
        "#         return read_res"
      ],
      "metadata": {
        "id": "gVRiKQlLFPKR"
      },
      "execution_count": null,
      "outputs": []
    },
    {
      "cell_type": "code",
      "source": [
        "import re\n",
        "from pyspark.sql import SparkSession\n",
        "from pyspark.sql.functions import col, expr, lower, split, udf\n",
        "from pyspark.sql.types import BooleanType, StringType\n",
        "\n",
        "spark = SparkSession.builder.getOrCreate()\n",
        "spark.udf.register(\"if_repeat_num_udf\", if_repeat_num, BooleanType())\n",
        "spark.udf.register(\"if_single_num_udf\", if_single_num, BooleanType())\n",
        "spark.udf.register(\"if_consecutive_num_udf\", if_consecutive_num, BooleanType())\n",
        "\n",
        "def invoice_num_check(read_res):\n",
        "    if_single_num_udf = udf(if_single_num, BooleanType())\n",
        "    if_repeat_num_udf = udf(if_repeat_num, BooleanType())\n",
        "    if_consecutive_num_udf = udf(if_consecutive_num, BooleanType())\n",
        "\n",
        "    #invoice_num_keywords = ['invoice number', 'invoice #', 'invoice num', 'invoice#']\n",
        "    invoice_num_keywords = ['invoice num']\n",
        "    read_res = read_res.withColumn('invalid_invoice_nbr', lit(False))\n",
        "    read_res = read_res.withColumn('possible_invoice_nbr', lit(None))\n",
        "\n",
        "    for keyword in invoice_num_keywords:\n",
        "       # read_res = read_res.withColumn('idx', lower(col('content')).indexOf(keyword) + 1)\n",
        "        read_res = read_res.withColumn('text', lower(col('content')))\n",
        "        #read_res = read_res.withColumn('idx', col('text').instr(keyword))\n",
        "        #read_res = read_res.withColumn('idx', col('idx') + 1)\n",
        "        read_res = read_res.withColumn('keyword',lit(keyword))\n",
        "        read_res = read_res.withColumn('idx', expr(\"INSTR(text, '{0}') - 1\".format(keyword)))\n",
        "        read_res = read_res.withColumn('potential_invoice_num', expr(\"substring(text, idx, 25)\"))\n",
        "        read_res = read_res.withColumn('potential_invoice_num', expr(\"substring(potential_invoice_num, 1, IF(instr(potential_invoice_num, 'date') > 0, instr(potential_invoice_num, 'date')-1, length(potential_invoice_num)))\"))\n",
        "\n",
        "        read_res = read_res.withColumn('text_list', split(col('potential_invoice_num'), ' '))\n",
        "        read_res = read_res.withColumn('possible_invoice_nbr', expr(\"\"\"\n",
        "            TRANSFORM(text_list, segment ->\n",
        "                IF(\n",
        "                    REGEXP_REPLACE(segment, '\\\\D', '') != '' AND\n",
        "                    (segment RLIKE '\\\\d{4}' OR segment RLIKE '[1-9]+\\\\\\\\1\\\\\\\\1\\\\\\\\1+'),\n",
        "                    segment,\n",
        "                    NULL\n",
        "                )\n",
        "            )\n",
        "        \"\"\"))\n",
        "        # read_res = read_res.withColumn('possible_invoice_nbr', expr(\"\"\"\n",
        "        # TRANSFORM(text_list, segment ->\n",
        "        #     IF(REGEXP_REPLACE(segment, '\\\\D', '') != '',\n",
        "        #         IF(\n",
        "        #             if_single_num_udf(segment) OR\n",
        "        #             if_repeat_num_udf(segment) OR\n",
        "        #             if_consecutive_num_udf(segment),\n",
        "        #             segment,\n",
        "        #             NULL\n",
        "        #         ),\n",
        "        #         NULL\n",
        "        #     )\n",
        "        # )\n",
        "        # \"\"\"))#.format(if_single_num_udf(col('segment')), if_repeat_num_udf(col('segment')), if_consecutive_num_udf(col('segment')))))\n",
        "\n",
        "        #read_res = read_res.withColumn('possible_invoice_nbr', expr(\"transform(text_list, segment -> IF(REGEXP_REPLACE(segment, '\\\\D', '') != '', IF({0} OR {1} OR {2}, segment, NULL), NULL))\".format(if_single_num_udf(col('segment')), if_repeat_num_udf(col('segment')), if_consecutive_num_udf(col('segment')))))\n",
        "\n",
        "        read_res = read_res.withColumn('invalid_invoice_nbr', col('invalid_invoice_nbr') | col('possible_invoice_nbr').isNotNull())\n",
        "        read_res = read_res.withColumn('possible_invoice_nbr', expr(\"filter(possible_invoice_nbr, segment -> segment IS NOT NULL)[0]\"))\n",
        "        #read_res = read_res.drop(*('text','idx'))\n",
        "\n",
        "    return read_res\n"
      ],
      "metadata": {
        "id": "rX53AnxDMG1h"
      },
      "execution_count": null,
      "outputs": []
    },
    {
      "cell_type": "markdown",
      "source": [
        "# address_check"
      ],
      "metadata": {
        "id": "LeuwprgXFTwJ"
      }
    },
    {
      "cell_type": "code",
      "source": [
        "def address_check(read_res):\n",
        "        def if_valid_address(address_text):\n",
        "            regex_addr_validated = r'[a-zA-Z](\\d|i|o|s)[a-zA-Z]\\s?(\\d|i|o|s)[a-zA-Z](\\d|i|o)\\s'\n",
        "            road_name = ['avenue','ave','boulevard','blvd','circle','cir','court','ct','expressway','expy','freeway','fwy','lane','ln','parkway','pky','road','rd','square','sq','street','st','driveway','dr','drive','highway','hwy']\n",
        "            province_name = ['albert','ab','british columbia','bc','manitoba','mb','new brunswick','nb','newfoundland and labrador', 'nl', 'northwest territories', 'nt', 'nova scotia', 'ns', 'nunavut', 'nu','ontario','on', 'prince edward island', 'pe', 'quebec', 'qc', 'saskatchewan', 'sk', 'yukon', 'yt']\n",
        "            exception_text = ['manulife','image']\n",
        "\n",
        "            add_regex = re.compile(regex_addr_validated)\n",
        "            search_res = re.search(add_regex, address_text)\n",
        "\n",
        "            if search_res and any(substring in address_text for substring in road_name) and any(substring in address_text for substring in province_name):\n",
        "                return True\n",
        "            elif not any(substring in address_text for substring in exception_text):\n",
        "                return False\n",
        "            else:\n",
        "                return True\n",
        "\n",
        "        if_valid_address_udf = udf(if_valid_address, BooleanType())\n",
        "\n",
        "        read_res = read_res.withColumn('has_invalid_addr', col('has_invalid_addr').cast(BooleanType()))\n",
        "        read_res = read_res.withColumn('verified_address', col('verified_address').cast(StringType()))\n",
        "\n",
        "        invoice_num_keywords = ['address']\n",
        "        for keyword in invoice_num_keywords:\n",
        "            read_res = read_res.withColumn('idx', col('content').lower().indexOf(keyword))\n",
        "            read_res = read_res.withColumn('idx', col('idx') + 1)\n",
        "            read_res = read_res.withColumn('potential_add_text', col('content').substr(col('idx'), 80))\n",
        "            read_res = read_res.withColumn('potential_add_text', expr(\"IF(instr(potential_add_text, 'email address') > 0, substring(potential_add_text, 1, instr(potential_add_text, 'email address')-1), potential_add_text)\"))\n",
        "\n",
        "            read_res = read_res.withColumn('has_invalid_addr', if_valid_address_udf(col('potential_add_text')) | col('has_invalid_addr'))\n",
        "\n",
        "        p = re.compile(r'\\s[a-zA-Z](\\d|i|o)[a-zA-Z]\\s?(\\d|i|o)[a-zA-Z](\\d|i|o)\\s')\n",
        "        read_res = read_res.withColumn('text_matches', expr(\"transform_all(content, x -> regexp_extract_all(x, '\\\\s[a-zA-Z](\\\\d|i|o)[a-zA-Z]\\\\s?(\\\\d|i|o)[a-zA-Z](\\\\d|i|o)\\\\s', 0))\"))\n",
        "        read_res = read_res.withColumn('potential_add_text', expr(\"explode_outer(flatten(text_matches))\"))\n",
        "        read_res = read_res.withColumn('has_invalid_addr', if_valid_address_udf(col('potential_add_text')) | col('has_invalid_addr'))\n",
        "\n",
        "        return read_res"
      ],
      "metadata": {
        "id": "u_Q-6Kn2FUEg"
      },
      "execution_count": null,
      "outputs": []
    },
    {
      "cell_type": "markdown",
      "source": [
        "# Test"
      ],
      "metadata": {
        "id": "i8jWQuCoF51L"
      }
    },
    {
      "cell_type": "code",
      "source": [
        "from pyspark.sql import SparkSession\n",
        "from pyspark.sql.functions import col, lower, lit, split, expr, when\n",
        "from pyspark.sql.types import BooleanType\n",
        "\n",
        "def invoice_num_check(read_res):\n",
        "    invoice_num_keywords = ['invoice number', 'invoice #', 'invoice num', 'invoice#']\n",
        "    read_res = read_res.withColumn('invalid_invoice_nbr', lit(False))\n",
        "    read_res = read_res.withColumn('possible_invoice_nbr', lit(None))\n",
        "\n",
        "    for keyword in invoice_num_keywords:\n",
        "        read_res = read_res.withColumn('text', lower(col('content')))\n",
        "        read_res = read_res.withColumn('idx', expr(\"INSTR(text, '{0}') - 1\".format(keyword)))\n",
        "       # read_res = read_res.withColumn('potential_invoice_num', col('text').substr(col('idx'), 25))\n",
        "        read_res = read_res.withColumn('potential_invoice_num', expr(\"substring(text, idx, 25)\"))\n",
        "        #read_res = read_res.withColumn('potential_invoice_num', col('potential_invoice_num').substr(1, expr(\"IF(instr(potential_invoice_num, 'date') > 0, instr(potential_invoice_num, 'date')-1, length(potential_invoice_num))\")))\n",
        "        read_res = read_res.withColumn('potential_invoice_num', expr(\"substring(potential_invoice_num, 1, IF(instr(potential_invoice_num, 'date') > 0, instr(potential_invoice_num, 'date')-1, length(potential_invoice_num)))\"))\n",
        "\n",
        "        read_res = read_res.withColumn('text_list', split(col('potential_invoice_num'), ' '))\n",
        "        read_res = read_res.withColumn('possible_invoice_nbr', expr(\"\"\"\n",
        "            TRANSFORM(text_list, segment ->\n",
        "                IF(\n",
        "                    REGEXP_REPLACE(segment, '\\\\D', '') != '' AND\n",
        "                    (segment RLIKE '\\\\d{4}' OR segment RLIKE '[1-9]+\\\\\\\\1\\\\\\\\1\\\\\\\\1+'),\n",
        "                    segment,\n",
        "                    NULL\n",
        "                )\n",
        "            )\n",
        "        \"\"\"))\n",
        "\n",
        "        read_res = read_res.withColumn('invalid_invoice_nbr', col('invalid_invoice_nbr') | col('possible_invoice_nbr').isNotNull())\n",
        "        read_res = read_res.withColumn('possible_invoice_nbr', expr(\"filter(possible_invoice_nbr, segment -> segment IS NOT NULL)[0]\"))\n",
        "\n",
        "    return read_res\n",
        "\n",
        "# Example usage\n",
        "spark = SparkSession.builder.getOrCreate()\n",
        "data = [(\"Hello, how are you?\",), (\"I'm doing well, thank you!\",)]\n",
        "df = spark.createDataFrame(data, [\"content\"])\n",
        "result = invoice_num_check(df)\n",
        "result.show()\n"
      ],
      "metadata": {
        "colab": {
          "base_uri": "https://localhost:8080/"
        },
        "id": "yaz9iXdE5Hkx",
        "outputId": "1731263d-4437-48ff-f2b5-84160a4e4f2a"
      },
      "execution_count": null,
      "outputs": [
        {
          "output_type": "stream",
          "name": "stdout",
          "text": [
            "+--------------------+-------------------+--------------------+--------------------+---+---------------------+---------+\n",
            "|             content|invalid_invoice_nbr|possible_invoice_nbr|                text|idx|potential_invoice_num|text_list|\n",
            "+--------------------+-------------------+--------------------+--------------------+---+---------------------+---------+\n",
            "| Hello, how are you?|               true|                null| hello, how are you?| -1|                    ?|      [?]|\n",
            "|I'm doing well, t...|               true|                null|i'm doing well, t...| -1|                    !|      [!]|\n",
            "+--------------------+-------------------+--------------------+--------------------+---+---------------------+---------+\n",
            "\n"
          ]
        }
      ]
    },
    {
      "cell_type": "code",
      "source": [
        "df.dtypes"
      ],
      "metadata": {
        "colab": {
          "base_uri": "https://localhost:8080/"
        },
        "id": "PazWLU8mDVA4",
        "outputId": "87daeda4-68fa-4193-f105-b3165b7b7209"
      },
      "execution_count": null,
      "outputs": [
        {
          "output_type": "execute_result",
          "data": {
            "text/plain": [
              "[('file_name', 'string'),\n",
              " ('content', 'string'),\n",
              " ('page_label', 'string'),\n",
              " ('hand', 'double')]"
            ]
          },
          "metadata": {},
          "execution_count": 81
        }
      ]
    },
    {
      "cell_type": "code",
      "source": [
        "df.show()"
      ],
      "metadata": {
        "colab": {
          "base_uri": "https://localhost:8080/"
        },
        "id": "oLjafFK92nUn",
        "outputId": "d5b32d83-f849-409b-9a4d-f9b4ed41e526"
      },
      "execution_count": null,
      "outputs": [
        {
          "output_type": "stream",
          "name": "stdout",
          "text": [
            "+---------+--------------------+----------+-----+\n",
            "|file_name|             content|page_label| hand|\n",
            "+---------+--------------------+----------+-----+\n",
            "|test1.jpg|Payment made to c...|      para|30.32|\n",
            "|test2.jpg|Transaction was d...|       mil| 10.2|\n",
            "|test3.jpg|User with registe...|       bil| 27.9|\n",
            "+---------+--------------------+----------+-----+\n",
            "\n"
          ]
        }
      ]
    },
    {
      "cell_type": "code",
      "source": [
        "def invoice_num_check(read_res):\n",
        "  read_res = read_res.withColumn(\"invalid_invoice_nbr\", lit(False))\n",
        "  read_res = read_res.withColumn(\"possible_invoice_nbr\", lit(None))\n",
        "\n",
        "  invoice_num_keywords = ['invoice number', 'invoice #', 'invoice num', 'invoice#']\n",
        "  invoice = \"None\"\n",
        "  def extract_invoice(text):\n",
        "    text = text.lower()\n",
        "\n",
        "    for keyword in invoice_num_keywords:\n",
        "        idx = text.find(keyword)\n",
        "        if idx == -1:\n",
        "          continue\n",
        "        potential_invoice_num = text[idx: idx+25] if idx+25 < len(text) else text[idx:]\n",
        "        if potential_invoice_num.find('date')>-1:\n",
        "            potential_invoice_num = potential_invoice_num[:potential_invoice_num.find('date')]\n",
        "\n",
        "        text_list = potential_invoice_num.split(' ')\n",
        "        for segment in text_list:\n",
        "            if any(c.isdigit() for c in segment):\n",
        "                if if_single_num(segment):\n",
        "                    return segment\n",
        "                elif if_repeat_num(segment):\n",
        "                    return segment\n",
        "                elif if_consecutive_num(segment):\n",
        "                    return segment\n",
        "                else:\n",
        "                    #read_res.loc[row[0], 'possible_invoice_nbr'] = segment\n",
        "                  return segment\n",
        "    return invoice\n",
        "\n",
        "  extract_invoice_udf = udf(extract_invoice, StringType())\n",
        "  read_res = read_res.withColumn(\"possible_invoice_nbr\", extract_invoice_udf(col(\"content\")))\n",
        "  return read_res\n"
      ],
      "metadata": {
        "id": "DxcvO4TVMaCy"
      },
      "execution_count": null,
      "outputs": []
    },
    {
      "cell_type": "code",
      "source": [],
      "metadata": {
        "id": "MKlTWKHVOfbD"
      },
      "execution_count": null,
      "outputs": []
    },
    {
      "cell_type": "code",
      "source": [
        "res_df=invoice_num_check(df)"
      ],
      "metadata": {
        "id": "zbjEFjwnGj-e"
      },
      "execution_count": null,
      "outputs": []
    },
    {
      "cell_type": "code",
      "source": [
        "res_df.show()"
      ],
      "metadata": {
        "colab": {
          "base_uri": "https://localhost:8080/"
        },
        "id": "P3GD7vH7G-1s",
        "outputId": "fa690594-ff78-41a3-a468-31a66f1bd547"
      },
      "execution_count": null,
      "outputs": [
        {
          "output_type": "stream",
          "name": "stdout",
          "text": [
            "+---------+--------------------+----------+-----+-------------------+--------------------+\n",
            "|file_name|             content|page_label| hand|invalid_invoice_nbr|possible_invoice_nbr|\n",
            "+---------+--------------------+----------+-----+-------------------+--------------------+\n",
            "|test1.jpg|Payment made to c...|      para|30.32|              false|               36241|\n",
            "|test2.jpg|Transaction was d...|       mil| 10.2|              false|       invoice#12534|\n",
            "|test3.jpg|User with registe...|       bil| 27.9|              false|                None|\n",
            "+---------+--------------------+----------+-----+-------------------+--------------------+\n",
            "\n"
          ]
        }
      ]
    },
    {
      "cell_type": "code",
      "source": [
        "res_df.dtypes"
      ],
      "metadata": {
        "colab": {
          "base_uri": "https://localhost:8080/"
        },
        "id": "lKLMjzlbNEfN",
        "outputId": "080d324a-ca4b-451e-d820-d5a770cc6808"
      },
      "execution_count": null,
      "outputs": [
        {
          "output_type": "execute_result",
          "data": {
            "text/plain": [
              "[('file_name', 'string'),\n",
              " ('content', 'string'),\n",
              " ('page_label', 'string'),\n",
              " ('hand', 'double'),\n",
              " ('invalid_invoice_nbr', 'boolean'),\n",
              " ('possible_invoice_nbr', 'string')]"
            ]
          },
          "metadata": {},
          "execution_count": 148
        }
      ]
    },
    {
      "cell_type": "code",
      "source": [
        "expected_data = [(\"test1.jpg\", \"Payment made to cashier with cash of 2000.00 \", \"para\",30.32,2000.0),\n",
        "                        (\"test2.jpg\", \"Transaction was done using cash in costco\", \"mil\",10.2),\n",
        "                            (\"test3.jpg\",\"User with register no: 58290 used debit card for payment\",\"bil\",27.9)]\n",
        "headers_exp = (\"file_name\", \"content\", \"page_label\",\"hand\",\"payment_amount\")\n",
        "expected_df = sc.createDataFrame(expected_data, headers_exp)"
      ],
      "metadata": {
        "id": "M8a2KJLCHoJL"
      },
      "execution_count": null,
      "outputs": []
    },
    {
      "cell_type": "code",
      "source": [
        "expected_df.dtypes"
      ],
      "metadata": {
        "colab": {
          "base_uri": "https://localhost:8080/"
        },
        "id": "Mil-CCqbH4vi",
        "outputId": "2cec00d7-8d0c-4f3b-f8d6-a731293c40d2"
      },
      "execution_count": null,
      "outputs": [
        {
          "output_type": "execute_result",
          "data": {
            "text/plain": [
              "[('file_name', 'string'),\n",
              " ('content', 'string'),\n",
              " ('page_label', 'string'),\n",
              " ('hand', 'double'),\n",
              " ('payment_amount', 'double')]"
            ]
          },
          "metadata": {},
          "execution_count": 159
        }
      ]
    },
    {
      "cell_type": "code",
      "source": [
        "!unzip -q ../content/fd_spark.zip -d ../content/"
      ],
      "metadata": {
        "id": "H6BTVUMGHHBN"
      },
      "execution_count": 1,
      "outputs": []
    },
    {
      "cell_type": "code",
      "source": [
        "import os\n",
        "import json\n",
        "import lxml\n",
        "from bs4 import BeautifulSoup as bs\n",
        "from pathlib import Path\n",
        "import sys\n",
        "import json\n",
        "import csv\n",
        "import pandas as pd\n",
        "# from azure.core.credentials import AzureKeyCredential\n",
        "# from azure.ai.formrecognizer import DocumentAnalysisClient\n",
        "# from azureml.core import Workspace, Dataset,Datastore\n",
        "# from azureml.data.datapath import DataPath\n",
        "import ast\n",
        "import re\n",
        "import numpy as np\n",
        "from pathlib import Path\n",
        "from nltk.corpus import stopwords\n",
        "from nltk.tokenize import word_tokenize\n",
        "import sys\n",
        "path_to_module = '../content/Fraud_detection/'\n",
        "sys.path.append(path_to_module)\n"
      ],
      "metadata": {
        "id": "EWX0Wdlen_6e"
      },
      "execution_count": 1,
      "outputs": []
    },
    {
      "cell_type": "code",
      "source": [
        "from computer_version import computer_version_rules\n",
        "from form_recognizer import doc_read\n",
        "from rules import fraud_document_analytics"
      ],
      "metadata": {
        "id": "uSkgnK3Sn_0t",
        "colab": {
          "base_uri": "https://localhost:8080/"
        },
        "outputId": "74e77ae3-6f3b-440b-9b0d-84a4fadb6fe4"
      },
      "execution_count": 2,
      "outputs": [
        {
          "output_type": "stream",
          "name": "stdout",
          "text": [
            "Looking in indexes: https://pypi.org/simple, https://us-python.pkg.dev/colab-wheels/public/simple/\n",
            "Requirement already satisfied: azure-ai-formrecognizer in /usr/local/lib/python3.10/dist-packages (3.3.0b1)\n",
            "Requirement already satisfied: azure-core<2.0.0,>=1.23.0 in /usr/local/lib/python3.10/dist-packages (from azure-ai-formrecognizer) (1.27.1)\n",
            "Requirement already satisfied: msrest>=0.6.21 in /usr/local/lib/python3.10/dist-packages (from azure-ai-formrecognizer) (0.7.1)\n",
            "Requirement already satisfied: azure-common~=1.1 in /usr/local/lib/python3.10/dist-packages (from azure-ai-formrecognizer) (1.1.28)\n",
            "Requirement already satisfied: typing-extensions>=4.0.1 in /usr/local/lib/python3.10/dist-packages (from azure-ai-formrecognizer) (4.6.3)\n",
            "Requirement already satisfied: requests>=2.18.4 in /usr/local/lib/python3.10/dist-packages (from azure-core<2.0.0,>=1.23.0->azure-ai-formrecognizer) (2.27.1)\n",
            "Requirement already satisfied: six>=1.11.0 in /usr/local/lib/python3.10/dist-packages (from azure-core<2.0.0,>=1.23.0->azure-ai-formrecognizer) (1.12.0)\n",
            "Requirement already satisfied: certifi>=2017.4.17 in /usr/local/lib/python3.10/dist-packages (from msrest>=0.6.21->azure-ai-formrecognizer) (2023.5.7)\n",
            "Requirement already satisfied: isodate>=0.6.0 in /usr/local/lib/python3.10/dist-packages (from msrest>=0.6.21->azure-ai-formrecognizer) (0.6.1)\n",
            "Requirement already satisfied: requests-oauthlib>=0.5.0 in /usr/local/lib/python3.10/dist-packages (from msrest>=0.6.21->azure-ai-formrecognizer) (1.3.1)\n",
            "Requirement already satisfied: urllib3<1.27,>=1.21.1 in /usr/local/lib/python3.10/dist-packages (from requests>=2.18.4->azure-core<2.0.0,>=1.23.0->azure-ai-formrecognizer) (1.26.16)\n",
            "Requirement already satisfied: charset-normalizer~=2.0.0 in /usr/local/lib/python3.10/dist-packages (from requests>=2.18.4->azure-core<2.0.0,>=1.23.0->azure-ai-formrecognizer) (2.0.12)\n",
            "Requirement already satisfied: idna<4,>=2.5 in /usr/local/lib/python3.10/dist-packages (from requests>=2.18.4->azure-core<2.0.0,>=1.23.0->azure-ai-formrecognizer) (3.4)\n",
            "Requirement already satisfied: oauthlib>=3.0.0 in /usr/local/lib/python3.10/dist-packages (from requests-oauthlib>=0.5.0->msrest>=0.6.21->azure-ai-formrecognizer) (3.2.2)\n",
            "Looking in indexes: https://pypi.org/simple, https://us-python.pkg.dev/colab-wheels/public/simple/\n",
            "Requirement already satisfied: lxml in /usr/local/lib/python3.10/dist-packages (4.9.2)\n"
          ]
        }
      ]
    },
    {
      "cell_type": "code",
      "source": [
        "input_path = \"../content/Fraud_detection/test/\"\n",
        "local_output_path = '../content/output/'"
      ],
      "metadata": {
        "id": "hOx0MdMfn_pv"
      },
      "execution_count": 3,
      "outputs": []
    },
    {
      "cell_type": "code",
      "source": [
        "cv = computer_version_rules(input_path,local_output_path)"
      ],
      "metadata": {
        "id": "FSW8grox3CmE"
      },
      "execution_count": 4,
      "outputs": []
    },
    {
      "cell_type": "code",
      "source": [
        "fr = doc_read(input_path,local_output_path)"
      ],
      "metadata": {
        "id": "nZRUV0ao4WhO"
      },
      "execution_count": 5,
      "outputs": []
    },
    {
      "cell_type": "code",
      "source": [
        "date_name = 'Test'\n",
        "batch_name = '111'\n",
        "input_path =  \"../content/Fraud_detection/test/\"\n",
        "files_with_stamp = cv.detect_stamp(date_name,batch_name,input_path)\n",
        "test2  = fr.read_document(date_name,batch_name,input_path)\n",
        "test2  = fr.sort_document(batch_name, test2)\n",
        "# test2  = fr.parse_metadata(batch_name, input_path,local_output_path, test2)\n",
        "test2 = fr.handwritten_per(batch_name,test2)\n",
        "test2 = fr.check_stamp(test2,files_with_stamp)"
      ],
      "metadata": {
        "colab": {
          "base_uri": "https://localhost:8080/"
        },
        "id": "qIIlYrkZ4Wds",
        "outputId": "8776275f-c5ef-4aca-bd6b-dd3d0d6e109e"
      },
      "execution_count": 6,
      "outputs": [
        {
          "output_type": "stream",
          "name": "stdout",
          "text": [
            "i am in\n",
            "0\n",
            "1\n",
            "140748\n",
            " In read doc\n",
            " After document_analysis_client doc\n",
            "AC_Beauty_and_Wellness.pdf\n",
            "Advantege_Medical_Center.pdf\n",
            "Advanced_Health_Rehabilitation.pdf\n",
            "Read 3 images' text in batch 111\n",
            "I am in sort_doc\n",
            "Labelled batch 111\n",
            "Calculating handwritten percentage of files in batch 111\n"
          ]
        }
      ]
    },
    {
      "cell_type": "code",
      "source": [
        "files_with_stamp"
      ],
      "metadata": {
        "colab": {
          "base_uri": "https://localhost:8080/"
        },
        "id": "eklNuPRvrunJ",
        "outputId": "7a262494-287c-470f-f7b2-d129c8f185a9"
      },
      "execution_count": 8,
      "outputs": [
        {
          "output_type": "execute_result",
          "data": {
            "text/plain": [
              "[]"
            ]
          },
          "metadata": {},
          "execution_count": 8
        }
      ]
    },
    {
      "cell_type": "code",
      "source": [
        "test2"
      ],
      "metadata": {
        "colab": {
          "base_uri": "https://localhost:8080/",
          "height": 240
        },
        "id": "j483sUXRPkq7",
        "outputId": "8d3c6aed-7d3b-4372-94be-6d8d90f9b4e9"
      },
      "execution_count": 9,
      "outputs": [
        {
          "output_type": "execute_result",
          "data": {
            "text/plain": [
              "                                     file_name  \\\n",
              "0          Test_111_AC_Beauty_and_Wellness.pdf   \n",
              "1        Test_111_Advantege_Medical_Center.pdf   \n",
              "2  Test_111_Advanced_Health_Rehabilitation.pdf   \n",
              "\n",
              "                                             content  \\\n",
              "0  Provider Not Listed Claim Confirmation # Inter...   \n",
              "1                                                      \n",
              "2                 CONFIDENTIAL   \n",
              "      CONFIDENTIAL   \n",
              "\n",
              "                                     word_confidence styles page_label  \\\n",
              "0  {'Provider': 1, 'Not': 1, 'Listed': 1, 'Claim'...   None  other_doc   \n",
              "1                                                 {}   None  other_doc   \n",
              "2                                {'CONFIDENTIAL': 1}   None  other_doc   \n",
              "\n",
              "   handwritten_percentage  has_stamp  \n",
              "0                       0      False  \n",
              "1                       0      False  \n",
              "2                       0      False  "
            ],
            "text/html": [
              "\n",
              "  <div id=\"df-0a111d7e-2ff0-4bee-bd62-b992d5a5ca15\">\n",
              "    <div class=\"colab-df-container\">\n",
              "      <div>\n",
              "<style scoped>\n",
              "    .dataframe tbody tr th:only-of-type {\n",
              "        vertical-align: middle;\n",
              "    }\n",
              "\n",
              "    .dataframe tbody tr th {\n",
              "        vertical-align: top;\n",
              "    }\n",
              "\n",
              "    .dataframe thead th {\n",
              "        text-align: right;\n",
              "    }\n",
              "</style>\n",
              "<table border=\"1\" class=\"dataframe\">\n",
              "  <thead>\n",
              "    <tr style=\"text-align: right;\">\n",
              "      <th></th>\n",
              "      <th>file_name</th>\n",
              "      <th>content</th>\n",
              "      <th>word_confidence</th>\n",
              "      <th>styles</th>\n",
              "      <th>page_label</th>\n",
              "      <th>handwritten_percentage</th>\n",
              "      <th>has_stamp</th>\n",
              "    </tr>\n",
              "  </thead>\n",
              "  <tbody>\n",
              "    <tr>\n",
              "      <th>0</th>\n",
              "      <td>Test_111_AC_Beauty_and_Wellness.pdf</td>\n",
              "      <td>Provider Not Listed Claim Confirmation # Inter...</td>\n",
              "      <td>{'Provider': 1, 'Not': 1, 'Listed': 1, 'Claim'...</td>\n",
              "      <td>None</td>\n",
              "      <td>other_doc</td>\n",
              "      <td>0</td>\n",
              "      <td>False</td>\n",
              "    </tr>\n",
              "    <tr>\n",
              "      <th>1</th>\n",
              "      <td>Test_111_Advantege_Medical_Center.pdf</td>\n",
              "      <td></td>\n",
              "      <td>{}</td>\n",
              "      <td>None</td>\n",
              "      <td>other_doc</td>\n",
              "      <td>0</td>\n",
              "      <td>False</td>\n",
              "    </tr>\n",
              "    <tr>\n",
              "      <th>2</th>\n",
              "      <td>Test_111_Advanced_Health_Rehabilitation.pdf</td>\n",
              "      <td>CONFIDENTIAL   \f      CONFIDENTIAL</td>\n",
              "      <td>{'CONFIDENTIAL': 1}</td>\n",
              "      <td>None</td>\n",
              "      <td>other_doc</td>\n",
              "      <td>0</td>\n",
              "      <td>False</td>\n",
              "    </tr>\n",
              "  </tbody>\n",
              "</table>\n",
              "</div>\n",
              "      <button class=\"colab-df-convert\" onclick=\"convertToInteractive('df-0a111d7e-2ff0-4bee-bd62-b992d5a5ca15')\"\n",
              "              title=\"Convert this dataframe to an interactive table.\"\n",
              "              style=\"display:none;\">\n",
              "        \n",
              "  <svg xmlns=\"http://www.w3.org/2000/svg\" height=\"24px\"viewBox=\"0 0 24 24\"\n",
              "       width=\"24px\">\n",
              "    <path d=\"M0 0h24v24H0V0z\" fill=\"none\"/>\n",
              "    <path d=\"M18.56 5.44l.94 2.06.94-2.06 2.06-.94-2.06-.94-.94-2.06-.94 2.06-2.06.94zm-11 1L8.5 8.5l.94-2.06 2.06-.94-2.06-.94L8.5 2.5l-.94 2.06-2.06.94zm10 10l.94 2.06.94-2.06 2.06-.94-2.06-.94-.94-2.06-.94 2.06-2.06.94z\"/><path d=\"M17.41 7.96l-1.37-1.37c-.4-.4-.92-.59-1.43-.59-.52 0-1.04.2-1.43.59L10.3 9.45l-7.72 7.72c-.78.78-.78 2.05 0 2.83L4 21.41c.39.39.9.59 1.41.59.51 0 1.02-.2 1.41-.59l7.78-7.78 2.81-2.81c.8-.78.8-2.07 0-2.86zM5.41 20L4 18.59l7.72-7.72 1.47 1.35L5.41 20z\"/>\n",
              "  </svg>\n",
              "      </button>\n",
              "      \n",
              "  <style>\n",
              "    .colab-df-container {\n",
              "      display:flex;\n",
              "      flex-wrap:wrap;\n",
              "      gap: 12px;\n",
              "    }\n",
              "\n",
              "    .colab-df-convert {\n",
              "      background-color: #E8F0FE;\n",
              "      border: none;\n",
              "      border-radius: 50%;\n",
              "      cursor: pointer;\n",
              "      display: none;\n",
              "      fill: #1967D2;\n",
              "      height: 32px;\n",
              "      padding: 0 0 0 0;\n",
              "      width: 32px;\n",
              "    }\n",
              "\n",
              "    .colab-df-convert:hover {\n",
              "      background-color: #E2EBFA;\n",
              "      box-shadow: 0px 1px 2px rgba(60, 64, 67, 0.3), 0px 1px 3px 1px rgba(60, 64, 67, 0.15);\n",
              "      fill: #174EA6;\n",
              "    }\n",
              "\n",
              "    [theme=dark] .colab-df-convert {\n",
              "      background-color: #3B4455;\n",
              "      fill: #D2E3FC;\n",
              "    }\n",
              "\n",
              "    [theme=dark] .colab-df-convert:hover {\n",
              "      background-color: #434B5C;\n",
              "      box-shadow: 0px 1px 3px 1px rgba(0, 0, 0, 0.15);\n",
              "      filter: drop-shadow(0px 1px 2px rgba(0, 0, 0, 0.3));\n",
              "      fill: #FFFFFF;\n",
              "    }\n",
              "  </style>\n",
              "\n",
              "      <script>\n",
              "        const buttonEl =\n",
              "          document.querySelector('#df-0a111d7e-2ff0-4bee-bd62-b992d5a5ca15 button.colab-df-convert');\n",
              "        buttonEl.style.display =\n",
              "          google.colab.kernel.accessAllowed ? 'block' : 'none';\n",
              "\n",
              "        async function convertToInteractive(key) {\n",
              "          const element = document.querySelector('#df-0a111d7e-2ff0-4bee-bd62-b992d5a5ca15');\n",
              "          const dataTable =\n",
              "            await google.colab.kernel.invokeFunction('convertToInteractive',\n",
              "                                                     [key], {});\n",
              "          if (!dataTable) return;\n",
              "\n",
              "          const docLinkHtml = 'Like what you see? Visit the ' +\n",
              "            '<a target=\"_blank\" href=https://colab.research.google.com/notebooks/data_table.ipynb>data table notebook</a>'\n",
              "            + ' to learn more about interactive tables.';\n",
              "          element.innerHTML = '';\n",
              "          dataTable['output_type'] = 'display_data';\n",
              "          await google.colab.output.renderOutput(dataTable, element);\n",
              "          const docLink = document.createElement('div');\n",
              "          docLink.innerHTML = docLinkHtml;\n",
              "          element.appendChild(docLink);\n",
              "        }\n",
              "      </script>\n",
              "    </div>\n",
              "  </div>\n",
              "  "
            ]
          },
          "metadata": {},
          "execution_count": 9
        }
      ]
    },
    {
      "cell_type": "code",
      "source": [
        "from rules import fraud_document_analytics"
      ],
      "metadata": {
        "id": "0mLdNz-LWHyo"
      },
      "execution_count": 10,
      "outputs": []
    },
    {
      "cell_type": "code",
      "source": [
        "rs = fraud_document_analytics()"
      ],
      "metadata": {
        "id": "hePJPZ3CXK76"
      },
      "execution_count": 11,
      "outputs": []
    },
    {
      "cell_type": "code",
      "source": [
        "test2 = rs.paid_by_cash(test2)\n",
        "test2 = rs.has_dollar_symbol(test2)\n",
        "test2 = rs.handwritten_check(test2,0.3)\n",
        "test2 = rs.invoice_num_check(test2)\n",
        "test2 = rs.get_payment(test2)\n",
        "test2 = rs.address_check(test2)\n",
        "test2 = rs.get_reg_num(test2)"
      ],
      "metadata": {
        "id": "GMCPpt07V4Jc"
      },
      "execution_count": 13,
      "outputs": []
    },
    {
      "cell_type": "code",
      "source": [
        "test2"
      ],
      "metadata": {
        "colab": {
          "base_uri": "https://localhost:8080/",
          "height": 294
        },
        "id": "dHxV11GtV4Ca",
        "outputId": "b79a1e49-39c7-445e-ca48-dc04726a9e95"
      },
      "execution_count": 14,
      "outputs": [
        {
          "output_type": "execute_result",
          "data": {
            "text/plain": [
              "                                     file_name  \\\n",
              "0          Test_111_AC_Beauty_and_Wellness.pdf   \n",
              "1        Test_111_Advantege_Medical_Center.pdf   \n",
              "2  Test_111_Advanced_Health_Rehabilitation.pdf   \n",
              "\n",
              "                                             content  \\\n",
              "0  Provider Not Listed Claim Confirmation # Inter...   \n",
              "1                                                      \n",
              "2                 CONFIDENTIAL   \n",
              "      CONFIDENTIAL   \n",
              "\n",
              "                                     word_confidence styles page_label  \\\n",
              "0  {'Provider': 1, 'Not': 1, 'Listed': 1, 'Claim'...   None  other_doc   \n",
              "1                                                 {}   None  other_doc   \n",
              "2                                {'CONFIDENTIAL': 1}   None  other_doc   \n",
              "\n",
              "   handwritten_percentage  has_stamp  paid_by_cash  no_dollar_symbol  \\\n",
              "0                       0      False         False             False   \n",
              "1                       0      False         False              True   \n",
              "2                       0      False         False              True   \n",
              "\n",
              "   above_handwritten_threshold  invalid_invoice_nbr possible_invoice_nbr  \\\n",
              "0                        False                False                 None   \n",
              "1                        False                False                 None   \n",
              "2                        False                False                 None   \n",
              "\n",
              "   payment_amount  has_invalid_addr verified_address register_num  \n",
              "0           450.0             False             None         None  \n",
              "1             NaN             False             None         None  \n",
              "2             NaN             False             None         None  "
            ],
            "text/html": [
              "\n",
              "  <div id=\"df-102a0646-39f8-4dba-a11c-2dd20d8371fd\">\n",
              "    <div class=\"colab-df-container\">\n",
              "      <div>\n",
              "<style scoped>\n",
              "    .dataframe tbody tr th:only-of-type {\n",
              "        vertical-align: middle;\n",
              "    }\n",
              "\n",
              "    .dataframe tbody tr th {\n",
              "        vertical-align: top;\n",
              "    }\n",
              "\n",
              "    .dataframe thead th {\n",
              "        text-align: right;\n",
              "    }\n",
              "</style>\n",
              "<table border=\"1\" class=\"dataframe\">\n",
              "  <thead>\n",
              "    <tr style=\"text-align: right;\">\n",
              "      <th></th>\n",
              "      <th>file_name</th>\n",
              "      <th>content</th>\n",
              "      <th>word_confidence</th>\n",
              "      <th>styles</th>\n",
              "      <th>page_label</th>\n",
              "      <th>handwritten_percentage</th>\n",
              "      <th>has_stamp</th>\n",
              "      <th>paid_by_cash</th>\n",
              "      <th>no_dollar_symbol</th>\n",
              "      <th>above_handwritten_threshold</th>\n",
              "      <th>invalid_invoice_nbr</th>\n",
              "      <th>possible_invoice_nbr</th>\n",
              "      <th>payment_amount</th>\n",
              "      <th>has_invalid_addr</th>\n",
              "      <th>verified_address</th>\n",
              "      <th>register_num</th>\n",
              "    </tr>\n",
              "  </thead>\n",
              "  <tbody>\n",
              "    <tr>\n",
              "      <th>0</th>\n",
              "      <td>Test_111_AC_Beauty_and_Wellness.pdf</td>\n",
              "      <td>Provider Not Listed Claim Confirmation # Inter...</td>\n",
              "      <td>{'Provider': 1, 'Not': 1, 'Listed': 1, 'Claim'...</td>\n",
              "      <td>None</td>\n",
              "      <td>other_doc</td>\n",
              "      <td>0</td>\n",
              "      <td>False</td>\n",
              "      <td>False</td>\n",
              "      <td>False</td>\n",
              "      <td>False</td>\n",
              "      <td>False</td>\n",
              "      <td>None</td>\n",
              "      <td>450.0</td>\n",
              "      <td>False</td>\n",
              "      <td>None</td>\n",
              "      <td>None</td>\n",
              "    </tr>\n",
              "    <tr>\n",
              "      <th>1</th>\n",
              "      <td>Test_111_Advantege_Medical_Center.pdf</td>\n",
              "      <td></td>\n",
              "      <td>{}</td>\n",
              "      <td>None</td>\n",
              "      <td>other_doc</td>\n",
              "      <td>0</td>\n",
              "      <td>False</td>\n",
              "      <td>False</td>\n",
              "      <td>True</td>\n",
              "      <td>False</td>\n",
              "      <td>False</td>\n",
              "      <td>None</td>\n",
              "      <td>NaN</td>\n",
              "      <td>False</td>\n",
              "      <td>None</td>\n",
              "      <td>None</td>\n",
              "    </tr>\n",
              "    <tr>\n",
              "      <th>2</th>\n",
              "      <td>Test_111_Advanced_Health_Rehabilitation.pdf</td>\n",
              "      <td>CONFIDENTIAL   \f      CONFIDENTIAL</td>\n",
              "      <td>{'CONFIDENTIAL': 1}</td>\n",
              "      <td>None</td>\n",
              "      <td>other_doc</td>\n",
              "      <td>0</td>\n",
              "      <td>False</td>\n",
              "      <td>False</td>\n",
              "      <td>True</td>\n",
              "      <td>False</td>\n",
              "      <td>False</td>\n",
              "      <td>None</td>\n",
              "      <td>NaN</td>\n",
              "      <td>False</td>\n",
              "      <td>None</td>\n",
              "      <td>None</td>\n",
              "    </tr>\n",
              "  </tbody>\n",
              "</table>\n",
              "</div>\n",
              "      <button class=\"colab-df-convert\" onclick=\"convertToInteractive('df-102a0646-39f8-4dba-a11c-2dd20d8371fd')\"\n",
              "              title=\"Convert this dataframe to an interactive table.\"\n",
              "              style=\"display:none;\">\n",
              "        \n",
              "  <svg xmlns=\"http://www.w3.org/2000/svg\" height=\"24px\"viewBox=\"0 0 24 24\"\n",
              "       width=\"24px\">\n",
              "    <path d=\"M0 0h24v24H0V0z\" fill=\"none\"/>\n",
              "    <path d=\"M18.56 5.44l.94 2.06.94-2.06 2.06-.94-2.06-.94-.94-2.06-.94 2.06-2.06.94zm-11 1L8.5 8.5l.94-2.06 2.06-.94-2.06-.94L8.5 2.5l-.94 2.06-2.06.94zm10 10l.94 2.06.94-2.06 2.06-.94-2.06-.94-.94-2.06-.94 2.06-2.06.94z\"/><path d=\"M17.41 7.96l-1.37-1.37c-.4-.4-.92-.59-1.43-.59-.52 0-1.04.2-1.43.59L10.3 9.45l-7.72 7.72c-.78.78-.78 2.05 0 2.83L4 21.41c.39.39.9.59 1.41.59.51 0 1.02-.2 1.41-.59l7.78-7.78 2.81-2.81c.8-.78.8-2.07 0-2.86zM5.41 20L4 18.59l7.72-7.72 1.47 1.35L5.41 20z\"/>\n",
              "  </svg>\n",
              "      </button>\n",
              "      \n",
              "  <style>\n",
              "    .colab-df-container {\n",
              "      display:flex;\n",
              "      flex-wrap:wrap;\n",
              "      gap: 12px;\n",
              "    }\n",
              "\n",
              "    .colab-df-convert {\n",
              "      background-color: #E8F0FE;\n",
              "      border: none;\n",
              "      border-radius: 50%;\n",
              "      cursor: pointer;\n",
              "      display: none;\n",
              "      fill: #1967D2;\n",
              "      height: 32px;\n",
              "      padding: 0 0 0 0;\n",
              "      width: 32px;\n",
              "    }\n",
              "\n",
              "    .colab-df-convert:hover {\n",
              "      background-color: #E2EBFA;\n",
              "      box-shadow: 0px 1px 2px rgba(60, 64, 67, 0.3), 0px 1px 3px 1px rgba(60, 64, 67, 0.15);\n",
              "      fill: #174EA6;\n",
              "    }\n",
              "\n",
              "    [theme=dark] .colab-df-convert {\n",
              "      background-color: #3B4455;\n",
              "      fill: #D2E3FC;\n",
              "    }\n",
              "\n",
              "    [theme=dark] .colab-df-convert:hover {\n",
              "      background-color: #434B5C;\n",
              "      box-shadow: 0px 1px 3px 1px rgba(0, 0, 0, 0.15);\n",
              "      filter: drop-shadow(0px 1px 2px rgba(0, 0, 0, 0.3));\n",
              "      fill: #FFFFFF;\n",
              "    }\n",
              "  </style>\n",
              "\n",
              "      <script>\n",
              "        const buttonEl =\n",
              "          document.querySelector('#df-102a0646-39f8-4dba-a11c-2dd20d8371fd button.colab-df-convert');\n",
              "        buttonEl.style.display =\n",
              "          google.colab.kernel.accessAllowed ? 'block' : 'none';\n",
              "\n",
              "        async function convertToInteractive(key) {\n",
              "          const element = document.querySelector('#df-102a0646-39f8-4dba-a11c-2dd20d8371fd');\n",
              "          const dataTable =\n",
              "            await google.colab.kernel.invokeFunction('convertToInteractive',\n",
              "                                                     [key], {});\n",
              "          if (!dataTable) return;\n",
              "\n",
              "          const docLinkHtml = 'Like what you see? Visit the ' +\n",
              "            '<a target=\"_blank\" href=https://colab.research.google.com/notebooks/data_table.ipynb>data table notebook</a>'\n",
              "            + ' to learn more about interactive tables.';\n",
              "          element.innerHTML = '';\n",
              "          dataTable['output_type'] = 'display_data';\n",
              "          await google.colab.output.renderOutput(dataTable, element);\n",
              "          const docLink = document.createElement('div');\n",
              "          docLink.innerHTML = docLinkHtml;\n",
              "          element.appendChild(docLink);\n",
              "        }\n",
              "      </script>\n",
              "    </div>\n",
              "  </div>\n",
              "  "
            ]
          },
          "metadata": {},
          "execution_count": 14
        }
      ]
    },
    {
      "cell_type": "code",
      "source": [
        "test2.to_csv(\"output.csv\")"
      ],
      "metadata": {
        "id": "9DddxgRiYLs0"
      },
      "execution_count": 17,
      "outputs": []
    },
    {
      "cell_type": "code",
      "source": [
        "test2[\"content\"]"
      ],
      "metadata": {
        "colab": {
          "base_uri": "https://localhost:8080/"
        },
        "id": "3a5G3MpzV38l",
        "outputId": "95a17b9a-6c16-42e5-97c5-880c160a78e6"
      },
      "execution_count": 16,
      "outputs": [
        {
          "output_type": "execute_result",
          "data": {
            "text/plain": [
              "0    Provider Not Listed Claim Confirmation # Inter...\n",
              "1                                                     \n",
              "2                   CONFIDENTIAL   \n",
              "      CONFIDENTIAL\n",
              "Name: content, dtype: object"
            ]
          },
          "metadata": {},
          "execution_count": 16
        }
      ]
    },
    {
      "cell_type": "markdown",
      "source": [
        "# PYSPARK Code"
      ],
      "metadata": {
        "id": "3P2n_sXBmM5W"
      }
    },
    {
      "cell_type": "code",
      "source": [
        "#!pip install pyspark"
      ],
      "metadata": {
        "id": "eFuNgS1smYgE"
      },
      "execution_count": 1,
      "outputs": []
    },
    {
      "cell_type": "code",
      "source": [
        "from pyspark.sql import SparkSession\n",
        "#from azure.storage.blob import BlobServiceClient\n",
        "import os\n",
        "from pyspark.sql.functions import col, when\n",
        "\n",
        "#spark = SparkSession.builder.getOrCreate()"
      ],
      "metadata": {
        "id": "zgFlNz9nX92p"
      },
      "execution_count": 2,
      "outputs": []
    },
    {
      "cell_type": "code",
      "source": [
        "input_path = \"../content/fd_spark/test/\"\n",
        "local_output_path = '../content/output/'"
      ],
      "metadata": {
        "id": "6nGb-rhirf1f"
      },
      "execution_count": 3,
      "outputs": []
    },
    {
      "cell_type": "code",
      "source": [
        "import os\n",
        "from pathlib import Path\n",
        "import sys\n",
        "import json\n",
        "import csv\n",
        "import pandas as pd\n",
        "import re\n",
        "import numpy as np\n",
        "from pathlib import Path\n",
        "path_to_module = '../content/fd_spark/'\n",
        "sys.path.append(path_to_module)\n",
        "from computer_version import ComputerVersionRules\n",
        "from Form_Recognizer import doc_read\n",
        "from rules import fraud_document_analytics"
      ],
      "metadata": {
        "id": "j8N5cHpmrp_V"
      },
      "execution_count": 4,
      "outputs": []
    },
    {
      "cell_type": "code",
      "source": [
        "cv = ComputerVersionRules(input_path,local_output_path)"
      ],
      "metadata": {
        "id": "UkAKPsvNro7m"
      },
      "execution_count": 5,
      "outputs": []
    },
    {
      "cell_type": "code",
      "source": [
        "fr = doc_read()"
      ],
      "metadata": {
        "id": "QDHVtEXFtGeT"
      },
      "execution_count": 6,
      "outputs": []
    },
    {
      "cell_type": "code",
      "source": [
        "date_name = 'Test'\n",
        "batch_name = '111'\n",
        "batch_path =  \"../content/fd_spark/test/\"\n",
        "files_with_stamp = cv.detect_stamp(date_name,batch_name,input_path)\n",
        "files_with_stamp = files_with_stamp.collect()\n",
        "test2  = fr.read_document(date_name,batch_name,batch_path)\n",
        "#test2  = fr.sort_document(batch_name, test2)\n",
        "# test2  = fr.parse_metadata(batch_name, input_path,local_output_path, test2)\n",
        "test2 = fr.handwritten_per(batch_name,test2)\n",
        "test2 = fr.check_stamp(test2,files_with_stamp)"
      ],
      "metadata": {
        "id": "tVGtmu7ltwWQ"
      },
      "execution_count": 7,
      "outputs": []
    },
    {
      "cell_type": "code",
      "source": [
        "test2.show()"
      ],
      "metadata": {
        "colab": {
          "base_uri": "https://localhost:8080/"
        },
        "id": "d-zTe5j45NH3",
        "outputId": "bc21719e-2a72-49c3-c4f8-c8f345928a6a"
      },
      "execution_count": 8,
      "outputs": [
        {
          "output_type": "stream",
          "name": "stdout",
          "text": [
            "+--------------------+--------------------+--------------------+------+----------------------+---------+\n",
            "|           file_name|             content|     word_confidence|styles|handwritten_percentage|has_stamp|\n",
            "+--------------------+--------------------+--------------------+------+----------------------+---------+\n",
            "|Test_111_AC Beaut...|Provider Not List...|{Apr=1, 02=1, Mem...|  null|                  null|    false|\n",
            "|Test_111_Advanced...|CONFIDENTIAL   \\f...|    {CONFIDENTIAL=1}|  null|                  null|    false|\n",
            "|Test_111_Advanteg...|                    |                  {}|  null|                  null|    false|\n",
            "+--------------------+--------------------+--------------------+------+----------------------+---------+\n",
            "\n"
          ]
        }
      ]
    },
    {
      "cell_type": "code",
      "source": [
        "rs = fraud_document_analytics()"
      ],
      "metadata": {
        "id": "w_xGRlPO5Oh8"
      },
      "execution_count": 9,
      "outputs": []
    },
    {
      "cell_type": "code",
      "source": [
        "test2 = rs.paid_by_cash(test2)\n",
        "test2 = rs.has_dollar_symbol(test2)\n",
        "test2 = rs.handwritten_check(test2,0.3)\n",
        "test2 = rs.invoice_num_check(test2)\n",
        "test2 = rs.get_payment(test2)\n",
        "test2 = rs.address_check(test2)\n",
        "test2 = rs.get_reg_num(test2)"
      ],
      "metadata": {
        "id": "vhMCocgM5YOH"
      },
      "execution_count": 10,
      "outputs": []
    },
    {
      "cell_type": "code",
      "source": [
        "test2.show()"
      ],
      "metadata": {
        "colab": {
          "base_uri": "https://localhost:8080/"
        },
        "id": "pI1x7Ykv6Jld",
        "outputId": "675d4d17-27f3-4d52-8168-4c304dcac64b"
      },
      "execution_count": 11,
      "outputs": [
        {
          "output_type": "stream",
          "name": "stdout",
          "text": [
            "+--------------------+--------------------+--------------------+------+----------------------+---------+------------+----------------+---------------------------+-------------------+--------------------+--------------+----------------+---------------+\n",
            "|           file_name|             content|     word_confidence|styles|handwritten_percentage|has_stamp|paid_by_cash|no_dollar_symbol|above_handwritten_threshold|invalid_invoice_nbr|possible_invoice_nbr|payment_amount|has_invalid_addr|   register_num|\n",
            "+--------------------+--------------------+--------------------+------+----------------------+---------+------------+----------------+---------------------------+-------------------+--------------------+--------------+----------------+---------------+\n",
            "|Test_111_AC Beaut...|provider not list...|{Apr=1, 02=1, Mem...|  null|                  null|    false|       false|           false|                       null|              false|                None|         450.0|           false|No Register Num|\n",
            "|Test_111_Advanced...|confidential   \\f...|    {CONFIDENTIAL=1}|  null|                  null|    false|       false|            true|                       null|              false|                None|     No Amount|           false|No Register Num|\n",
            "|Test_111_Advanteg...|                    |                  {}|  null|                  null|    false|       false|            true|                       null|              false|                None|     No Amount|           false|No Register Num|\n",
            "+--------------------+--------------------+--------------------+------+----------------------+---------+------------+----------------+---------------------------+-------------------+--------------------+--------------+----------------+---------------+\n",
            "\n"
          ]
        }
      ]
    },
    {
      "cell_type": "code",
      "source": [
        "output_path = \"/content/output_spark.csv\"\n",
        "test2.repartition(1).write.csv(output_path, header=True, mode=\"overwrite\")"
      ],
      "metadata": {
        "id": "cOX_c1HmADqe"
      },
      "execution_count": 13,
      "outputs": []
    }
  ]
}